{
 "metadata": {
  "language_info": {
   "codemirror_mode": {
    "name": "ipython",
    "version": 3
   },
   "file_extension": ".py",
   "mimetype": "text/x-python",
   "name": "python",
   "nbconvert_exporter": "python",
   "pygments_lexer": "ipython3",
   "version": "3.8.5-final"
  },
  "orig_nbformat": 2,
  "kernelspec": {
   "name": "python3",
   "display_name": "Python 3",
   "language": "python"
  }
 },
 "nbformat": 4,
 "nbformat_minor": 2,
 "cells": [
  {
   "source": [
    "#### 리스트"
   ],
   "cell_type": "markdown",
   "metadata": {}
  },
  {
   "cell_type": "code",
   "execution_count": 1,
   "metadata": {},
   "outputs": [
    {
     "output_type": "stream",
     "name": "stdout",
     "text": [
      "['k', 'o', 'r', 'e', 'a']\n"
     ]
    }
   ],
   "source": [
    "print(list(\"korea\"))\n",
    "\n",
    "# 틀린 표현\n",
    "# list = [1, 2, 3, 4]\n",
    "# list를 변수명으로 사용한 경우 list()를 제대로 사용할 수 없음"
   ]
  },
  {
   "source": [
    "##### index"
   ],
   "cell_type": "markdown",
   "metadata": {}
  },
  {
   "cell_type": "code",
   "execution_count": 2,
   "metadata": {},
   "outputs": [
    {
     "output_type": "stream",
     "name": "stdout",
     "text": [
      "[0, 1, 2, 3, 4, 5, 6, 7, 8, 9]\n[2, 3, 4]\n[0, 1, 2, 3]\n[6, 7, 8, 9]\n[1, 3, 5]\n"
     ]
    }
   ],
   "source": [
    "nums = list(range(0,10))\n",
    "print(nums[:])\n",
    "print(nums[2:5])\n",
    "print(nums[:4])\n",
    "print(nums[6:])\n",
    "print(nums[1:7:2])"
   ]
  },
  {
   "source": [
    "##### 리스트 요소 수정"
   ],
   "cell_type": "markdown",
   "metadata": {}
  },
  {
   "cell_type": "code",
   "execution_count": 3,
   "metadata": {},
   "outputs": [
    {
     "output_type": "stream",
     "name": "stdout",
     "text": [
      "2\n50\n[0, 1, 50, 3, 4, 5, 6, 7, 8, 9]\n[0, 1, 20, 30, 40, 5, 6, 7, 8, 9]\n[0, 1, 20, 30, 40, 5, 60, 70, 80, 90, 8, 9]\n"
     ]
    }
   ],
   "source": [
    "print(nums[2])\n",
    "nums[2] = 50\n",
    "print(nums[2])\n",
    "print(nums)\n",
    "\n",
    "# 문자열에서는 불가능(불변객체)\n",
    "# s = \"python\"\n",
    "# s[2] = \"T\"\n",
    "# print(s)\n",
    "# TypeError: 'str' object does not support item assignment\n",
    "\n",
    "# 좌, 우 크기가 같으면 새로운 값으로 대체\n",
    "# 이미지를 다룰 때 편함\n",
    "nums[2:5] = [20, 30, 40]\n",
    "print(nums)\n",
    "# 좌, 우 크기가 다르면 기존 값을 삭제하고 새로운 값을 삽입\n",
    "nums[6:8] = [60, 70, 80, 90]\n",
    "print(nums)"
   ]
  },
  {
   "source": [
    "##### 이중리스트"
   ],
   "cell_type": "markdown",
   "metadata": {}
  },
  {
   "cell_type": "code",
   "execution_count": 4,
   "metadata": {},
   "outputs": [
    {
     "output_type": "stream",
     "name": "stdout",
     "text": [
      "[[1, 2, 3], [4, 5], [6, 7, 8, 9]]\n[1, 2, 3]\n[4, 5]\n[6, 7, 8, 9]\n2\n4\n9\n1 2 3 \n4 5 \n6 7 8 9 \n"
     ]
    }
   ],
   "source": [
    "import pprint\n",
    "\n",
    "lol = [\n",
    "    [1, 2, 3],\n",
    "    [4, 5],\n",
    "    [6, 7, 8, 9]\n",
    "]\n",
    "\n",
    "pprint.pprint(lol)\n",
    "\n",
    "print(lol[0])\n",
    "print(lol[1])\n",
    "print(lol[2])\n",
    "\n",
    "print(lol[0][1])\n",
    "print(lol[1][0])\n",
    "print(lol[2][3])\n",
    "\n",
    "for sub in lol:\n",
    "    for item in sub:\n",
    "        print(item, end=' ')\n",
    "    print()"
   ]
  },
  {
   "cell_type": "code",
   "execution_count": 5,
   "metadata": {},
   "outputs": [
    {
     "output_type": "stream",
     "name": "stdout",
     "text": [
      "총점 354, 평균 88.50\n총점 275, 평균 68.75\n총점 328, 평균 82.00\n전체평균 79.75\n"
     ]
    }
   ],
   "source": [
    "score = [\n",
    "    [88, 76, 92, 98],\n",
    "    [65, 70, 58, 82],\n",
    "    [82, 80, 78, 88],\n",
    "]\n",
    "\n",
    "total = 0\n",
    "totalsub = 0\n",
    "\n",
    "for student in score:\n",
    "    subject_total = 0\n",
    "    for subject in student:\n",
    "        subject_total += subject\n",
    "\n",
    "    subjects = len(student)\n",
    "    print(f\"총점 {subject_total}, 평균 {subject_total/subjects:.2f}\")\n",
    "    total += subject_total\n",
    "    totalsub += subjects\n",
    "\n",
    "print(f\"전체평균 {total/totalsub:.2f}\")"
   ]
  },
  {
   "source": [
    "##### comprehension"
   ],
   "cell_type": "markdown",
   "metadata": {}
  },
  {
   "source": [
    "nums = [n*2 for n in range(1, 11)]\n",
    "for i in nums:\n",
    "    print(i, end=', ')\n",
    "print('\\n')\n",
    "\n",
    "nums = [n*2 for n in range(1, 11) if n%2==0]\n",
    "for i in nums:\n",
    "    print(i, end=', ')\n",
    "print('\\n')\n",
    "\n",
    "nums = []\n",
    "for n in range(1, 11):\n",
    "    nums.append(n*2)\n",
    "print(nums)"
   ],
   "cell_type": "code",
   "metadata": {},
   "execution_count": 6,
   "outputs": [
    {
     "output_type": "stream",
     "name": "stdout",
     "text": [
      "2, 4, 6, 8, 10, 12, 14, 16, 18, 20, \n\n4, 8, 12, 16, 20, \n\n[2, 4, 6, 8, 10, 12, 14, 16, 18, 20]\n"
     ]
    }
   ]
  },
  {
   "cell_type": "code",
   "execution_count": 7,
   "metadata": {},
   "outputs": [
    {
     "output_type": "stream",
     "name": "stdout",
     "text": [
      "[7, 60, 73, 1, 22, 76, 53, 23, 60, 24, 47, 24, 87, 23, 70, 80, 57, 29, 77, 42, 77, 22, 26, 54, 14, 89, 55, 10, 47, 7, 30, 38, 3, 42, 9, 77, 43, 42, 65, 43, 23, 53, 100, 64, 22, 11, 2, 82, 62, 57]\n"
     ]
    }
   ],
   "source": [
    "# 문제\n",
    "# 1~100 사이의 랜덤 정수 50개를 리스트에 담아라.\n",
    "\n",
    "import random  # random.randrange(1,101)\n",
    "random_numbers = [random.randrange(1, 101) for _ in range(50)]\n",
    "print(random_numbers)"
   ]
  },
  {
   "source": [
    "##### 삽입"
   ],
   "cell_type": "markdown",
   "metadata": {}
  },
  {
   "cell_type": "code",
   "execution_count": 8,
   "metadata": {},
   "outputs": [
    {
     "output_type": "stream",
     "name": "stdout",
     "text": [
      "[1, 2, 3, 4, 5]\n[1, 2, 99, 3, 4, 5]\n[1, 2, 90, 91, 92, 99, 3, 4, 5]\n[1, 2, [30, 31, 32], 91, 92, 99, 3, 4, 5]\n"
     ]
    }
   ],
   "source": [
    "nums = [1,2,3,4]\n",
    "nums.append(5)\n",
    "print(nums)\n",
    "\n",
    "# 삭제를 하지 않고 지정한 위치에 값을 삽입\n",
    "nums.insert(2,99)\n",
    "print(nums)\n",
    "\n",
    "# 슬라이싱\n",
    "nums[2:2] = [90,91,92]\n",
    "print(nums)\n",
    "\n",
    "# 해당 요소의 값을 삭제 후 삽입\n",
    "nums[2] = [30,31,32]\n",
    "print(nums)"
   ]
  },
  {
   "source": [
    "##### 확장"
   ],
   "cell_type": "markdown",
   "metadata": {}
  },
  {
   "cell_type": "code",
   "execution_count": 9,
   "metadata": {},
   "outputs": [
    {
     "output_type": "stream",
     "name": "stdout",
     "text": [
      "[1, 2, 3, 4, 5]\n[1, 2, 3, 4, 5, 10, 20, 30]\n[1, 2, 3, 4, 5, 10, 20, 30]\n"
     ]
    }
   ],
   "source": [
    "list1 = [1,2,3,4,5]\n",
    "list2 = [10,20,30]\n",
    "list3 = list1+list2  # 대입 가능\n",
    "print(list1)\n",
    "print(list3)\n",
    "list1.extend(list2)  # 원본을 변경\n",
    "print(list1)"
   ]
  },
  {
   "source": [
    "##### 삭제"
   ],
   "cell_type": "markdown",
   "metadata": {}
  },
  {
   "cell_type": "code",
   "execution_count": 10,
   "metadata": {},
   "outputs": [
    {
     "output_type": "stream",
     "name": "stdout",
     "text": [
      "[88, 90, 70, 99, 88, 78]\n[88, 90, 99, 88, 78]\n[88, 78]\n78\n[88, 90, 70, 100, 99, 88]\n90\n[88, 70, 100, 99, 88]\n"
     ]
    }
   ],
   "source": [
    "score = [88, 90, 70, 100, 99, 88, 78]\n",
    "score.remove(100)\n",
    "print(score)\n",
    "\n",
    "del(score[2])\n",
    "print(score)\n",
    "\n",
    "score[1:4] = []\n",
    "print(score)\n",
    "\n",
    "score = [88, 90, 70, 100, 99, 88, 78]\n",
    "print(score.pop())\n",
    "print(score)\n",
    "print(score.pop(1))\n",
    "print(score)"
   ]
  },
  {
   "cell_type": "code",
   "execution_count": 11,
   "metadata": {},
   "outputs": [],
   "source": [
    "stack = []  # (LIFO)\n",
    "\n",
    "# stack으로 데이터를 저장\n",
    "stack.append(10)  # 10\n",
    "stack.append(20)  # 10 20\n",
    "stack.append(30)  # 10 20 30\n",
    "\n",
    "# 데이터를 stack에서 꺼내기\n",
    "v1 = stack.pop()  # v1: 30 / 10 20\n",
    "v2 = stack.pop()  # v2: 20 / 10\n",
    "\n",
    "queue = []  # (FIFO, Buffer)\n",
    "\n",
    "# queue로 데이터를 저장\n",
    "stack.append(10)  # 10\n",
    "stack.append(20)  # 10 20\n",
    "stack.append(30)  # 10 20 30\n",
    "\n",
    "# 데이터를 queue에서 꺼내기\n",
    "v1 = stack.pop(0)  # v1: 10 / 20 30\n",
    "v2 = stack.pop(0)  # v2: 20 / 30"
   ]
  },
  {
   "source": [
    "##### 정렬"
   ],
   "cell_type": "markdown",
   "metadata": {}
  },
  {
   "cell_type": "code",
   "execution_count": 12,
   "metadata": {},
   "outputs": [
    {
     "output_type": "stream",
     "name": "stdout",
     "text": [
      "[50, 98, 54, 6, 34, 66, 63, 52, 39, 62]\n[50, 98, 34, 6, 54, 66, 63, 52, 39, 62]\n[98, 50, 34, 6, 54, 66, 63, 52, 39, 62]\n"
     ]
    }
   ],
   "source": [
    "# 문제\n",
    "# 1~100 범위에서 10개의 랜덤한 숫자로 된 리스트를 구성하세요.\n",
    "import random\n",
    "\n",
    "random.seed(0)  # 동일한 난수를 뽑기\n",
    "\n",
    "random_numbers = [random.randrange(1, 101) for _ in range(10)]\n",
    "print(random_numbers)\n",
    "\n",
    "# 두 개의 요소를 서로 바꿔주는 함수(swap(list,a,b))\n",
    "\n",
    "def swap(list_name, ix1, ix2):\n",
    "    temp = list_name[ix1]\n",
    "    list_name[ix1] = list_name[ix2]\n",
    "    list_name[ix2] = temp\n",
    "    return list_name\n",
    "\n",
    "random_numbers = swap(random_numbers,2,4)\n",
    "print(random_numbers)\n",
    "\n",
    "# 최대값을 찾아서 0번과 바꾸세요.\n",
    "max_index = random_numbers.index(max(random_numbers))\n",
    "random_numbers = swap(random_numbers,0, max_index)\n",
    "print(random_numbers)"
   ]
  },
  {
   "cell_type": "code",
   "execution_count": 13,
   "metadata": {},
   "outputs": [
    {
     "output_type": "stream",
     "name": "stdout",
     "text": [
      "[98, 66, 63, 62, 54, 52, 50, 39, 34, 6]\n"
     ]
    }
   ],
   "source": [
    "# 내림차순 정렬하기(.sort 쓰면 됨)\n",
    "# 최대값을 맨 앞으로 보내고,\n",
    "# 나머지에서 최대값을 찾아 두번째로 보내고,\n",
    "# 나머지에서 최대값을 찾아 세번째로 보내고, ...\n",
    "\n",
    "for i in range(len(random_numbers)):\n",
    "    max_value = max(random_numbers[i:])\n",
    "    max_index = random_numbers.index(max_value)\n",
    "    random_numbers = swap(random_numbers,i, max_index)\n",
    "\n",
    "print(random_numbers)"
   ]
  },
  {
   "cell_type": "code",
   "execution_count": 16,
   "metadata": {},
   "outputs": [
    {
     "output_type": "stream",
     "name": "stdout",
     "text": [
      "[88, 95, 70, 100, 99]\n[70, 88, 95, 99, 100]\n[88, 95, 70, 100, 99]\n[100, 99, 95, 88, 70]\n"
     ]
    }
   ],
   "source": [
    "score = [88, 95, 70, 100, 99]\n",
    "sorted_score = sorted(score)\n",
    "\n",
    "print(score)\n",
    "print(sorted_score)\n",
    "\n",
    "rsorted_score = sorted(score, reverse=True)\n",
    "\n",
    "print(score)\n",
    "print(rsorted_score)"
   ]
  },
  {
   "cell_type": "code",
   "execution_count": 15,
   "metadata": {},
   "outputs": [
    {
     "output_type": "stream",
     "name": "stdout",
     "text": [
      "결제를 취소합니다.\n"
     ]
    }
   ],
   "source": [
    "ans = input(\"결제 하시겠습니까?\")\n",
    "\n",
    "ans = ans.lower()\n",
    "if ans in ['yes', 'y', 'ok', '예', '네']:\n",
    "    print(\"결제를 진행합니다.\")\n",
    "else:\n",
    "    print(\"결제를 취소합니다.\")"
   ]
  },
  {
   "source": [
    "#### 튜플"
   ],
   "cell_type": "markdown",
   "metadata": {}
  },
  {
   "cell_type": "code",
   "execution_count": 17,
   "metadata": {},
   "outputs": [
    {
     "output_type": "stream",
     "name": "stdout",
     "text": [
      "(88, 95, 70, 100, 99)\n(88,)\n88\n"
     ]
    }
   ],
   "source": [
    "score = 88, 95, 70, 100, 99  # 튜플\n",
    "print(score)\n",
    "\n",
    "score = 88,  # 튜플\n",
    "print(score)\n",
    "\n",
    "score = 88 # 튜플 x\n",
    "print(score)"
   ]
  },
  {
   "cell_type": "code",
   "execution_count": 18,
   "metadata": {},
   "outputs": [
    {
     "output_type": "stream",
     "name": "stdout",
     "text": [
      "4\n(2, 3, 4)\n(1, 2, 3, 4, 5, 6, 7)\n"
     ]
    }
   ],
   "source": [
    "tu = 1, 2, 3, 4, 5\n",
    "print(tu[3])\n",
    "print(tu[1:4])\n",
    "print(tu + (6, 7))\n",
    "\n",
    "# t[1] = 100  # 불가능"
   ]
  },
  {
   "source": [
    "##### 튜플로 가능한 일"
   ],
   "cell_type": "markdown",
   "metadata": {}
  },
  {
   "cell_type": "code",
   "execution_count": 20,
   "metadata": {},
   "outputs": [
    {
     "output_type": "stream",
     "name": "stdout",
     "text": [
      "('이순신', '강감찬', '김유신')\n이순신\n강감찬\n김유신\n12 34\n34 12\n"
     ]
    }
   ],
   "source": [
    "# unpacking (자주 사용함)\n",
    "\n",
    "names = \"이순신\", \"강감찬\", \"김유신\"\n",
    "lee, kang, kim = names  # unpack\n",
    "print(names)\n",
    "print(lee)\n",
    "print(kang)\n",
    "print(kim)\n",
    "\n",
    "# 복수개의 변수를 한번에 초기화\n",
    "a, b = 12, 34\n",
    "print(a, b)\n",
    "\n",
    "a, b = b, a  # swap\n",
    "print(a, b)"
   ]
  },
  {
   "cell_type": "code",
   "execution_count": 22,
   "metadata": {},
   "outputs": [
    {
     "output_type": "stream",
     "name": "stdout",
     "text": [
      "지금은 13시 23분 입니다.\n지금은 13시 23분 입니다.\n"
     ]
    }
   ],
   "source": [
    "import time\n",
    "\n",
    "def gettime():\n",
    "    now  = time.localtime()\n",
    "    return now.tm_hour, now.tm_min\n",
    "\n",
    "results = gettime()\n",
    "print(f\"지금은 {results[0]}시 {results[1]}분 입니다.\")\n",
    "\n",
    "# 가독성이 좋아짐\n",
    "hour, minute = gettime()\n",
    "print(f\"지금은 {hour}시 {minute}분 입니다.\")"
   ]
  }
 ]
}
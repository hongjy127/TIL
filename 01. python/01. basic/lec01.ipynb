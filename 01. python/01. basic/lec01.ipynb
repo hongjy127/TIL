{
 "cells": [
  {
   "cell_type": "markdown",
   "metadata": {},
   "source": [
    "- 출력"
   ]
  },
  {
   "cell_type": "code",
   "execution_count": 1,
   "metadata": {},
   "outputs": [
    {
     "name": "stdout",
     "output_type": "stream",
     "text": [
      "7\n"
     ]
    }
   ],
   "source": [
    "print(3+4)"
   ]
  },
  {
   "cell_type": "code",
   "execution_count": 2,
   "metadata": {},
   "outputs": [
    {
     "name": "stdout",
     "output_type": "stream",
     "text": [
      "1234\n",
      "2468\n"
     ]
    }
   ],
   "source": [
    "value = 1234\n",
    "print(value)\n",
    "print(value*2)"
   ]
  },
  {
   "cell_type": "code",
   "execution_count": 3,
   "metadata": {},
   "outputs": [
    {
     "name": "stdout",
     "output_type": "stream",
     "text": [
      "12 34\n",
      "12,34\n",
      "1234\n",
      "12--->34\n"
     ]
    }
   ],
   "source": [
    "a = 12\n",
    "b = 34\n",
    "print(a, b)\n",
    "print(a, b, sep=',')\n",
    "print(a, b, sep='')\n",
    "print(a, b, sep='--->')"
   ]
  },
  {
   "cell_type": "code",
   "execution_count": 4,
   "metadata": {},
   "outputs": [
    {
     "name": "stdout",
     "output_type": "stream",
     "text": [
      "고양이 강아지 "
     ]
    }
   ],
   "source": [
    "a = '고양이'\n",
    "b = '강아지'\n",
    "print(a, b, end=' ')"
   ]
  },
  {
   "cell_type": "code",
   "execution_count": 5,
   "metadata": {},
   "outputs": [
    {
     "name": "stdout",
     "output_type": "stream",
     "text": [
      "12^^34^^56--->78\n"
     ]
    }
   ],
   "source": [
    "print(12, 34, 56, sep='^^', end='--->')\n",
    "print(78)"
   ]
  },
  {
   "cell_type": "markdown",
   "metadata": {},
   "source": [
    "- 입력"
   ]
  },
  {
   "cell_type": "code",
   "execution_count": 6,
   "metadata": {},
   "outputs": [
    {
     "name": "stdout",
     "output_type": "stream",
     "text": [
      "28\n",
      "<class 'str'>\n"
     ]
    }
   ],
   "source": [
    "age = input(\"How old are you?\")\n",
    "print(age)\n",
    "print(type(age))  # type(age) 로 써도 jupyter notebook에서는 출력"
   ]
  },
  {
   "cell_type": "code",
   "execution_count": 7,
   "metadata": {},
   "outputs": [
    {
     "name": "stdout",
     "output_type": "stream",
     "text": [
      "총액은 50000 원입니다.\n"
     ]
    }
   ],
   "source": [
    "price = input(\"가격은? : \")\n",
    "num = input(\"수량은? : \")\n",
    "sum = int(price) * int(num) # int 꼭 필요\n",
    "print(\"총액은\", sum, \"원입니다.\")"
   ]
  }
 ],
 "metadata": {
  "kernelspec": {
   "display_name": "Python 3",
   "language": "python",
   "name": "python3"
  },
  "language_info": {
   "codemirror_mode": {
    "name": "ipython",
    "version": 3
   },
   "file_extension": ".py",
   "mimetype": "text/x-python",
   "name": "python",
   "nbconvert_exporter": "python",
   "pygments_lexer": "ipython3",
   "version": "3.8.5"
  }
 },
 "nbformat": 4,
 "nbformat_minor": 2
}

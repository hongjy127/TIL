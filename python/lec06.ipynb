{
 "metadata": {
  "language_info": {
   "codemirror_mode": {
    "name": "ipython",
    "version": 3
   },
   "file_extension": ".py",
   "mimetype": "text/x-python",
   "name": "python",
   "nbconvert_exporter": "python",
   "pygments_lexer": "ipython3",
   "version": "3.8.5-final"
  },
  "orig_nbformat": 2,
  "kernelspec": {
   "name": "python3",
   "display_name": "Python 3",
   "language": "python"
  }
 },
 "nbformat": 4,
 "nbformat_minor": 2,
 "cells": [
  {
   "source": [
    "# 반복문\n",
    "## while문"
   ],
   "cell_type": "markdown",
   "metadata": {}
  },
  {
   "cell_type": "code",
   "execution_count": 1,
   "metadata": {},
   "outputs": [
    {
     "output_type": "stream",
     "name": "stdout",
     "text": [
      "1 번 학생의 성적을 처리합니다.\n2 번 학생의 성적을 처리합니다.\n3 번 학생의 성적을 처리합니다.\n4 번 학생의 성적을 처리합니다.\n5 번 학생의 성적을 처리합니다.\n"
     ]
    }
   ],
   "source": [
    "student = 1\n",
    "while student <= 5:\n",
    "    print(student, \"번 학생의 성적을 처리합니다.\")\n",
    "    student += 1"
   ]
  },
  {
   "cell_type": "code",
   "execution_count": 2,
   "metadata": {},
   "outputs": [
    {
     "output_type": "stream",
     "name": "stdout",
     "text": [
      "5050\n"
     ]
    }
   ],
   "source": [
    "# 1부터 100까지 더하기\n",
    "num = 1\n",
    "total = 0\n",
    "while num <= 100:\n",
    "    total += num\n",
    "    num += 1\n",
    "print(total)"
   ]
  },
  {
   "cell_type": "code",
   "execution_count": 3,
   "metadata": {},
   "outputs": [
    {
     "output_type": "stream",
     "name": "stdout",
     "text": [
      "16875\n"
     ]
    }
   ],
   "source": [
    "# 151부터 300까지 홀수 더하기\n",
    "num = 151\n",
    "total = 0\n",
    "while num <=300:\n",
    "    total += num\n",
    "    num += 2\n",
    "print(total)"
   ]
  },
  {
   "source": [
    "## for문"
   ],
   "cell_type": "markdown",
   "metadata": {}
  },
  {
   "cell_type": "code",
   "execution_count": 4,
   "metadata": {},
   "outputs": [
    {
     "output_type": "stream",
     "name": "stdout",
     "text": [
      "1 번 학생의 성적을 처리합니다.\n2 번 학생의 성적을 처리합니다.\n3 번 학생의 성적을 처리합니다.\n4 번 학생의 성적을 처리합니다.\n5 번 학생의 성적을 처리합니다.\n"
     ]
    }
   ],
   "source": [
    "for student in [1, 2, 3, 4, 5]:\n",
    "    print(student, \"번 학생의 성적을 처리합니다.\")"
   ]
  },
  {
   "cell_type": "code",
   "execution_count": 5,
   "metadata": {},
   "outputs": [
    {
     "output_type": "stream",
     "name": "stdout",
     "text": [
      "5050\n"
     ]
    }
   ],
   "source": [
    "# 1부터 100까지 더하기\n",
    "total = 0\n",
    "for num in range(1,101):\n",
    "    total += num\n",
    "print(total)"
   ]
  },
  {
   "cell_type": "code",
   "execution_count": 6,
   "metadata": {},
   "outputs": [
    {
     "output_type": "stream",
     "name": "stdout",
     "text": [
      "16875\n33750\n"
     ]
    }
   ],
   "source": [
    "# 151부터 300까지 홀수 더하기\n",
    "total = 0\n",
    "for num in range(151,301,2):\n",
    "    total += num\n",
    "print(total)\n",
    "\n",
    "# or\n",
    "\n",
    "for num in range(151,301):\n",
    "    if num%2==1:\n",
    "        total += num\n",
    "print(total)"
   ]
  },
  {
   "cell_type": "code",
   "execution_count": 7,
   "metadata": {},
   "outputs": [
    {
     "output_type": "stream",
     "name": "stdout",
     "text": [
      "=== 1 단===\n1 X 1 = 1\n1 X 2 = 2\n1 X 3 = 3\n1 X 4 = 4\n1 X 5 = 5\n1 X 6 = 6\n1 X 7 = 7\n1 X 8 = 8\n1 X 9 = 9\n===========\n=== 2 단===\n2 X 1 = 2\n2 X 2 = 4\n2 X 3 = 6\n2 X 4 = 8\n2 X 5 = 10\n2 X 6 = 12\n2 X 7 = 14\n2 X 8 = 16\n2 X 9 = 18\n===========\n=== 3 단===\n3 X 1 = 3\n3 X 2 = 6\n3 X 3 = 9\n3 X 4 = 12\n3 X 5 = 15\n3 X 6 = 18\n3 X 7 = 21\n3 X 8 = 24\n3 X 9 = 27\n===========\n=== 4 단===\n4 X 1 = 4\n4 X 2 = 8\n4 X 3 = 12\n4 X 4 = 16\n4 X 5 = 20\n4 X 6 = 24\n4 X 7 = 28\n4 X 8 = 32\n4 X 9 = 36\n===========\n=== 5 단===\n5 X 1 = 5\n5 X 2 = 10\n5 X 3 = 15\n5 X 4 = 20\n5 X 5 = 25\n5 X 6 = 30\n5 X 7 = 35\n5 X 8 = 40\n5 X 9 = 45\n===========\n=== 6 단===\n6 X 1 = 6\n6 X 2 = 12\n6 X 3 = 18\n6 X 4 = 24\n6 X 5 = 30\n6 X 6 = 36\n6 X 7 = 42\n6 X 8 = 48\n6 X 9 = 54\n===========\n=== 7 단===\n7 X 1 = 7\n7 X 2 = 14\n7 X 3 = 21\n7 X 4 = 28\n7 X 5 = 35\n7 X 6 = 42\n7 X 7 = 49\n7 X 8 = 56\n7 X 9 = 63\n===========\n=== 8 단===\n8 X 1 = 8\n8 X 2 = 16\n8 X 3 = 24\n8 X 4 = 32\n8 X 5 = 40\n8 X 6 = 48\n8 X 7 = 56\n8 X 8 = 64\n8 X 9 = 72\n===========\n=== 9 단===\n9 X 1 = 9\n9 X 2 = 18\n9 X 3 = 27\n9 X 4 = 36\n9 X 5 = 45\n9 X 6 = 54\n9 X 7 = 63\n9 X 8 = 72\n9 X 9 = 81\n===========\n"
     ]
    }
   ],
   "source": [
    "# 구구단\n",
    "for dan in range(1, 10):\n",
    "    print('===',dan,'단===')\n",
    "    for hang in range(1, 10):\n",
    "        print(dan, 'X', hang, '=', dan*hang)\n",
    "    print('='*11)"
   ]
  },
  {
   "source": [
    "### break"
   ],
   "cell_type": "markdown",
   "metadata": {}
  },
  {
   "cell_type": "code",
   "execution_count": 8,
   "metadata": {},
   "outputs": [
    {
     "output_type": "stream",
     "name": "stdout",
     "text": [
      "3 + 4 = ?\n",
      "정답입니다\n"
     ]
    }
   ],
   "source": [
    "print(\"3 + 4 = ?\")\n",
    "while True:\n",
    "    answer = int(input(\"정답을 입력하세요: \"))\n",
    "    if answer == 7: break\n",
    "print(\"정답입니다\")"
   ]
  },
  {
   "cell_type": "code",
   "execution_count": 9,
   "metadata": {},
   "outputs": [
    {
     "output_type": "stream",
     "name": "stdout",
     "text": [
      "92\n86\n68\n성적 값이 아닙니다 :  120\n성적처리 끝\n"
     ]
    }
   ],
   "source": [
    "score = [92, 86, 68, 120, 56]\n",
    "for s in score:\n",
    "    if (s < 0) or (s > 100):\n",
    "        print(\"성적 값이 아닙니다 : \", s)\n",
    "        break\n",
    "    print(s)\n",
    "print(\"성적처리 끝\")"
   ]
  },
  {
   "source": [
    "### continue"
   ],
   "cell_type": "markdown",
   "metadata": {}
  },
  {
   "cell_type": "code",
   "execution_count": 10,
   "metadata": {},
   "outputs": [
    {
     "output_type": "stream",
     "name": "stdout",
     "text": [
      "92\n86\n68\n성적 값이 아닙니다 :  120\n56\n성적처리 끝\n"
     ]
    }
   ],
   "source": [
    "score = [92, 86, 68, 120, 56]\n",
    "for s in score:\n",
    "    if (s < 0) or (s > 100):\n",
    "        print(\"성적 값이 아닙니다 : \", s)\n",
    "        continue\n",
    "    print(s)    \n",
    "print(\"성적처리 끝\")"
   ]
  }
 ]
}
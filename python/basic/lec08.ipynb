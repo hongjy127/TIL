{
 "metadata": {
  "language_info": {
   "codemirror_mode": {
    "name": "ipython",
    "version": 3
   },
   "file_extension": ".py",
   "mimetype": "text/x-python",
   "name": "python",
   "nbconvert_exporter": "python",
   "pygments_lexer": "ipython3",
   "version": "3.8.5-final"
  },
  "orig_nbformat": 2,
  "kernelspec": {
   "name": "python3",
   "display_name": "Python 3",
   "language": "python"
  }
 },
 "nbformat": 4,
 "nbformat_minor": 2,
 "cells": [
  {
   "source": [
    "### 문자열 관리\n",
    "#### index"
   ],
   "cell_type": "markdown",
   "metadata": {}
  },
  {
   "cell_type": "code",
   "execution_count": 1,
   "metadata": {},
   "outputs": [
    {
     "output_type": "stream",
     "name": "stdout",
     "text": [
      "t\no\ntho\nhon\npyth\npyth\npto\nnohtyp\n"
     ]
    }
   ],
   "source": [
    "s = \"python\"\n",
    "print(s[2])\n",
    "print(s[-2])\n",
    "\n",
    "# p  y  t  h  o  n\n",
    "# 0  1  2  3  4  5\n",
    "#-6 -5 -4 -3 -2 -1\n",
    "\n",
    "print(s[2:5])  # 2~4 index\n",
    "print(s[3:])  # 3~ index\n",
    "print(s[:4])  # ~4 index\n",
    "print(s[:4])  # ~4 index\n",
    "print(s[::2])  # :: 전체범위를, 2칸씩\n",
    "print(s[::-1])  # -1: 뒤에서부터 제시해라"
   ]
  },
  {
   "source": [
    "#### sclicing"
   ],
   "cell_type": "markdown",
   "metadata": {}
  },
  {
   "cell_type": "code",
   "execution_count": 2,
   "metadata": {},
   "outputs": [
    {
     "output_type": "stream",
     "name": "stdout",
     "text": [
      "생년: 2000-12-12\n지역코드:  45\n"
     ]
    }
   ],
   "source": [
    "socialnum = '001212-3451231'\n",
    "\n",
    "# '생년-월-일' 로 포맷팅 해서 출력\n",
    "# 출신 지역 코드 출력\n",
    "\n",
    "year = socialnum[0:2]\n",
    "month = socialnum[2:4]\n",
    "date = socialnum[4:6]\n",
    "region = socialnum[8:10]\n",
    "\n",
    "gender = socialnum[8]\n",
    "\n",
    "if gender == '1' or gender == '2':\n",
    "    year = '19' + year\n",
    "else:\n",
    "    year = '20' + year\n",
    "\n",
    "\n",
    "\n",
    "print('생년: ', year,'-',month,'-',date, sep='')\n",
    "print('지역코드: ', region)"
   ]
  },
  {
   "source": [
    "### 검색"
   ],
   "cell_type": "markdown",
   "metadata": {}
  },
  {
   "cell_type": "code",
   "execution_count": 3,
   "metadata": {},
   "outputs": [
    {
     "output_type": "stream",
     "name": "stdout",
     "text": [
      "18\n4\n9\n8\n2\n"
     ]
    }
   ],
   "source": [
    "s = \"python programming\"\n",
    "\n",
    "print(len(s))\n",
    "print(s.find('o'))\n",
    "print(s.rfind('o'))\n",
    "print(s.index('r'))\n",
    "print(s.count('n'))"
   ]
  },
  {
   "source": [
    "#### 조사"
   ],
   "cell_type": "markdown",
   "metadata": {}
  },
  {
   "cell_type": "code",
   "execution_count": 4,
   "metadata": {},
   "outputs": [
    {
     "output_type": "stream",
     "name": "stdout",
     "text": [
      "True\nFalse\nTrue\nTrue\n"
     ]
    }
   ],
   "source": [
    "print('a' in s)\n",
    "print('z' in s)\n",
    "print('pro' in s)\n",
    "print('x' not in s)"
   ]
  },
  {
   "cell_type": "code",
   "execution_count": 5,
   "metadata": {},
   "outputs": [
    {
     "output_type": "stream",
     "name": "stdout",
     "text": [
      "홍씨입니다.\nJPG 그림 파일입니다.\n"
     ]
    }
   ],
   "source": [
    "name = \"홍정연\"\n",
    "\n",
    "if name.startswith(\"홍\"):\n",
    "    print(\"홍씨입니다.\")\n",
    "\n",
    "file_name = \"figure.jpg\"\n",
    "if file_name.endswith(\".jpg\"):\n",
    "    print(\"JPG 그림 파일입니다.\")"
   ]
  },
  {
   "cell_type": "code",
   "execution_count": 6,
   "metadata": {},
   "outputs": [
    {
     "output_type": "stream",
     "name": "stdout",
     "text": [
      "프로토콜 : http\n파일명 : seoul.html\n파일 종류 : html\n"
     ]
    }
   ],
   "source": [
    "url = \"http://www.naver.com/blog/travel/seoul.html\"\n",
    "\n",
    "# 프로토콜이 무엇인지, 파일명은 무엇인지 출력하시오.\n",
    "# 프로토콜 : http\n",
    "# 파일명: seoul.html\n",
    "\n",
    "px = url.find(\":\")\n",
    "# 중요) if문 꼭 필요 (데이터가 부정확한게 있다는 가정 하에 코드 짜기)\n",
    "if px != -1:\n",
    "    protocol = url[:px]\n",
    "else:\n",
    "    protocol = '없음'\n",
    "\n",
    "fx = url.rfind('/')\n",
    "if fx != -1:\n",
    "    fname = url[fx+1:]\n",
    "else:\n",
    "    protocol = '없음'\n",
    "\n",
    "tx = url.rfind('.')\n",
    "if tx != -1:\n",
    "    ftype = url[tx+1:]\n",
    "else:\n",
    "    ftype = '없음'\n",
    "\n",
    "print(\"프로토콜 :\", protocol)\n",
    "print(\"파일명 :\", fname)\n",
    "print(\"파일 종류 :\", ftype)"
   ]
  },
  {
   "source": [
    "### 기타"
   ],
   "cell_type": "markdown",
   "metadata": {}
  },
  {
   "cell_type": "code",
   "execution_count": 7,
   "metadata": {},
   "outputs": [
    {
     "output_type": "stream",
     "name": "stdout",
     "text": [
      "숫자만 입력하세요\n"
     ]
    }
   ],
   "source": [
    "height = input(\"키 : \")\n",
    "if height.isnumeric():\n",
    "    print(\"키 = \", height, 'cm')\n",
    "else:\n",
    "    print(\"숫자만 입력하세요\")"
   ]
  },
  {
   "source": [
    "#### 분할"
   ],
   "cell_type": "markdown",
   "metadata": {}
  },
  {
   "cell_type": "code",
   "execution_count": 8,
   "metadata": {},
   "outputs": [
    {
     "output_type": "stream",
     "name": "stdout",
     "text": [
      "['짜장', '짬뽕', '탕수육']\n['서울', '대전', '대구', '부산']\n서울\n대전\n대구\n부산\n"
     ]
    }
   ],
   "source": [
    "s = \"짜장 짬뽕 탕수육\"\n",
    "print(s.split())\n",
    "\n",
    "s2 = \"서울->대전->대구->부산\"\n",
    "cities = s2.split(\"->\")\n",
    "print(cities)\n",
    "\n",
    "for city in cities:\n",
    "    print(city)"
   ]
  },
  {
   "cell_type": "code",
   "execution_count": 9,
   "metadata": {},
   "outputs": [
    {
     "output_type": "stream",
     "name": "stdout",
     "text": [
      "http\nwww.naver.com/blog/travel/seoul.html\n['www.naver.com', 'blog', 'travel', 'seoul.html']\nseoul.html\nhtml\n"
     ]
    }
   ],
   "source": [
    "url = \"http://www.naver.com/blog/travel/seoul.html\"\n",
    "\n",
    "els = url.split(\"://\")\n",
    "print(els[0])  # 프로토콜\n",
    "print(els[1])  # www 이후\n",
    "\n",
    "path = els[1].split('/')\n",
    "print(path)\n",
    "fname = path[-1]\n",
    "print(fname)\n",
    "\n",
    "ftype = fname.split('.')[-1]\n",
    "print(ftype)"
   ]
  },
  {
   "cell_type": "code",
   "execution_count": 10,
   "metadata": {},
   "outputs": [
    {
     "output_type": "stream",
     "name": "stdout",
     "text": [
      "\n강나루 건너서\n밀밭 길을\n\n구름에 달 가듯이\n가는 나그네\n\n['', '강나루 건너서', '밀밭 길을', '', '구름에 달 가듯이', '가는 나그네']\n\n강나루 건너서\n밀밭 길을\n\n구름에 달 가듯이\n가는 나그네\n"
     ]
    }
   ],
   "source": [
    "trabler = \"\"\"\n",
    "강나루 건너서\n",
    "밀밭 길을\n",
    "\n",
    "구름에 달 가듯이\n",
    "가는 나그네\n",
    "\"\"\"\n",
    "print(trabler)\n",
    "poet = trabler.splitlines()\n",
    "print(poet)\n",
    "for line in poet:\n",
    "    print(line)"
   ]
  },
  {
   "source": [
    "#### 대체"
   ],
   "cell_type": "markdown",
   "metadata": {}
  },
  {
   "cell_type": "code",
   "execution_count": 11,
   "metadata": {},
   "outputs": [
    {
     "output_type": "stream",
     "name": "stdout",
     "text": [
      "독도는 한국땅. 대마도도 한국땅\n"
     ]
    }
   ],
   "source": [
    "s = \"독도는 일본땅. 대마도도 일본땅\"\n",
    "print(s.replace(\"일본\", \"한국\"))"
   ]
  },
  {
   "cell_type": "code",
   "execution_count": 12,
   "metadata": {},
   "outputs": [
    {
     "output_type": "stream",
     "name": "stdout",
     "text": [
      "            안녕하세요             \n안녕하세요                         \n                         안녕하세요\n"
     ]
    }
   ],
   "source": [
    "message = \"안녕하세요\"\n",
    "print(message.center(30))\n",
    "print(message.ljust(30))\n",
    "print(message.rjust(30))"
   ]
  },
  {
   "source": [
    "#### 포맷팅"
   ],
   "cell_type": "markdown",
   "metadata": {}
  },
  {
   "cell_type": "code",
   "execution_count": 13,
   "metadata": {},
   "outputs": [
    {
     "output_type": "stream",
     "name": "stdout",
     "text": [
      "이름: 정연, 나이: 28, 키: 158\n이름: 정연 , 나이:  28, 키: 158.0\n이름: 정연, 나이: 28, 키: 158\n"
     ]
    }
   ],
   "source": [
    "name = \"정연\"\n",
    "age = 28\n",
    "height = 158\n",
    "\n",
    "print(\"이름: {}, 나이: {}, 키: {}\".format(name, age, height))\n",
    "\n",
    "print(\"이름: {:3s}, 나이: {:3d}, 키: {:.1f}\".format(name, age, height))\n",
    "\n",
    "print(\"이름: {2}, 나이: {0}, 키: {1}\".format(age, height, name))"
   ]
  },
  {
   "cell_type": "code",
   "execution_count": 14,
   "metadata": {},
   "outputs": [
    {
     "output_type": "stream",
     "name": "stdout",
     "text": [
      "이름: 정연, 나이:28, 키: 158\n이름: 정연 , 나이: 28, 키: 158.0\n이름: 정연, 나이:28, 키: 158\n"
     ]
    }
   ],
   "source": [
    "# python 3.7부터 지원하는 새로운 방법(f-string)\n",
    "# 이걸로 사용하기\n",
    "\n",
    "print(f\"이름: {name}, 나이:{age}, 키: {height}\")\n",
    "print(f\"이름: {name:3s}, 나이:{age:3d}, 키: {height:.1f}\")\n",
    "\n",
    "user1 = f\"이름: {name}, 나이:{age}, 키: {height}\"\n",
    "print(user1)"
   ]
  },
  {
   "cell_type": "code",
   "execution_count": 15,
   "metadata": {},
   "outputs": [
    {
     "output_type": "stream",
     "name": "stdout",
     "text": [
      "생년: 2000, 월: 12, 일:12\n지역코드: 45\n"
     ]
    }
   ],
   "source": [
    "socialnum = '001212-3451231'\n",
    "\n",
    "# '생년-월-일' 로 포맷팅 해서 출력\n",
    "# 출신 지역 코드 출력\n",
    "\n",
    "year = socialnum[0:2]\n",
    "month = socialnum[2:4]\n",
    "date = socialnum[4:6]\n",
    "region = socialnum[8:10]\n",
    "\n",
    "gender = socialnum[8]\n",
    "\n",
    "if gender == '1' or gender == '2':\n",
    "    year = '19' + year\n",
    "else:\n",
    "    year = '20' + year\n",
    "\n",
    "\n",
    "\n",
    "print(f\"생년: {year}, 월: {month}, 일:{date}\")\n",
    "print(f\"지역코드: {region}\")"
   ]
  }
 ]
}
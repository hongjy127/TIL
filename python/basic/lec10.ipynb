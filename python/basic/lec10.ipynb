{
 "metadata": {
  "language_info": {
   "codemirror_mode": {
    "name": "ipython",
    "version": 3
   },
   "file_extension": ".py",
   "mimetype": "text/x-python",
   "name": "python",
   "nbconvert_exporter": "python",
   "pygments_lexer": "ipython3",
   "version": "3.8.5-final"
  },
  "orig_nbformat": 2,
  "kernelspec": {
   "name": "python3",
   "display_name": "Python 3",
   "language": "python"
  }
 },
 "nbformat": 4,
 "nbformat_minor": 2,
 "cells": [
  {
   "source": [
    "#### 사전"
   ],
   "cell_type": "markdown",
   "metadata": {}
  },
  {
   "cell_type": "code",
   "execution_count": 1,
   "metadata": {},
   "outputs": [
    {
     "output_type": "stream",
     "name": "stdout",
     "text": [
      "{'boy': '소년', 'school': '학교', 'book': '책'}\n<class 'dict'>\n"
     ]
    }
   ],
   "source": [
    "dic = {\n",
    "    'boy':'소년',\n",
    "    'school':'학교',\n",
    "    'book':'책'\n",
    "}\n",
    "print(dic)\n",
    "print(type(dic))"
   ]
  },
  {
   "cell_type": "code",
   "execution_count": 2,
   "metadata": {},
   "outputs": [
    {
     "output_type": "stream",
     "name": "stdout",
     "text": [
      "소년\n학교\n책\n"
     ]
    }
   ],
   "source": [
    "print(dic['boy'])\n",
    "print(dic['school'])\n",
    "print(dic['book'])\n",
    "# 존재하지 않는 key에 대해\n",
    "# print(key['girl'])\n",
    "# keyError: 'girl'"
   ]
  },
  {
   "cell_type": "code",
   "execution_count": 3,
   "metadata": {},
   "outputs": [
    {
     "output_type": "stream",
     "name": "stdout",
     "text": [
      "소년\nNone\n사전에 없는 단어입니다.\n사전에 없는 단어입니다.\n"
     ]
    }
   ],
   "source": [
    "# 안전한 방법\n",
    "print(dic.get('boy'))\n",
    "print(dic.get('girl'))\n",
    "print(dic.get('girl','사전에 없는 단어입니다.'))\n",
    "\n",
    "if 'student' in dic:\n",
    "    print('사전에 있는 단어입니다.')\n",
    "else:\n",
    "    print('사전에 없는 단어입니다.')"
   ]
  },
  {
   "cell_type": "code",
   "execution_count": 4,
   "metadata": {},
   "outputs": [
    {
     "output_type": "stream",
     "name": "stdout",
     "text": [
      "boy\nboy 소년\nschool\nschool 학교\nbook\nbook 책\ndict_keys(['boy', 'school', 'book'])\ndict_values(['소년', '학교', '책'])\ndict_items([('boy', '소년'), ('school', '학교'), ('book', '책')])\n"
     ]
    }
   ],
   "source": [
    "for key in dic:\n",
    "    print(key)  # key 출력\n",
    "    print(key, dic[key])  # key, value 출력\n",
    "\n",
    "print(dic.keys())\n",
    "print(dic.values())\n",
    "print(dic.items())  # list, list의 요소는 tuple"
   ]
  },
  {
   "cell_type": "code",
   "execution_count": 5,
   "metadata": {},
   "outputs": [
    {
     "output_type": "stream",
     "name": "stdout",
     "text": [
      "boy 소년\nschool 학교\nbook 책\n"
     ]
    }
   ],
   "source": [
    "# tuple의 unpacking 이용\n",
    "for key, value in dic.items():\n",
    "    print(key, value)"
   ]
  },
  {
   "cell_type": "code",
   "execution_count": 6,
   "metadata": {},
   "outputs": [
    {
     "output_type": "stream",
     "name": "stdout",
     "text": [
      "{'boy': '남자아이', 'school': '학교', 'book': '책'}\n{'boy': '남자아이', 'school': '학교', 'book': '책', 'girl': '소녀'}\n{'boy': '남자아이', 'school': '학교', 'girl': '소녀'}\n"
     ]
    }
   ],
   "source": [
    "dic['boy'] = '남자아이'  # key가 존재하면 기존 값 수정\n",
    "print(dic)\n",
    "dic['girl'] = '소녀'  # key가 없으면 새로운 값 추가\n",
    "print(dic)\n",
    "del dic['book']  # 해당 엔트리 삭제\n",
    "print(dic)"
   ]
  },
  {
   "cell_type": "code",
   "execution_count": 7,
   "metadata": {},
   "outputs": [
    {
     "output_type": "stream",
     "name": "stdout",
     "text": [
      "{'boy': '소년', 'school': '학교', 'book': '서적', 'student': '학생', 'teacher': '선생님'}\n"
     ]
    }
   ],
   "source": [
    "dic = {\n",
    "    'boy':'소년',\n",
    "    'school':'학교',\n",
    "    'book':'책'\n",
    "}\n",
    "dic2 = {\n",
    "    'student':'학생',\n",
    "    'teacher':'선생님',\n",
    "    'book':'서적'\n",
    "    }\n",
    "\n",
    "dic.update(dic2)\n",
    "print(dic)"
   ]
  },
  {
   "cell_type": "code",
   "execution_count": 8,
   "metadata": {},
   "outputs": [
    {
     "output_type": "stream",
     "name": "stdout",
     "text": [
      "{'boy': '소년', 'school': '학교', 'teacher': '선생님'}\n"
     ]
    }
   ],
   "source": [
    "# 이중리스트 -> dict\n",
    "li = [\n",
    "    ['boy', '소년'],\n",
    "    ['school', '학교'],\n",
    "    ['teacher', '선생님']  # tuple이어도 바꿀 수 있음\n",
    "]\n",
    "\n",
    "dic = dict(li)\n",
    "print(dic)"
   ]
  },
  {
   "cell_type": "code",
   "execution_count": 9,
   "metadata": {},
   "outputs": [
    {
     "output_type": "stream",
     "name": "stdout",
     "text": [
      "{'b': 4, 'y': 5, 't': 9, 'h': 9, 'e': 22, 'r': 12, 'i': 10, 'v': 2, 's': 10, 'o': 10, 'f': 2, 'a': 12, 'l': 5, 'n': 13, 'w': 12, 'd': 6, 'p': 2, 'm': 3, 'z': 1, 'c': 3, 'k': 1, 'u': 3, 'q': 1, 'g': 4}\n"
     ]
    }
   ],
   "source": [
    "# 알파벳 횟수 구하기\n",
    "\n",
    "song = \"\"\"By the rivers of babylon, there we sat down\n",
    "yeah we wept, when we remember zion.\n",
    "When the wicked carried us away in captivity\n",
    "required from us a song\n",
    "now how shall we sing the lord's song in a strange land\"\"\"\n",
    "\n",
    "alphabet = dict()\n",
    "for c in song:\n",
    "    if c.isalpha() == False:\n",
    "        continue\n",
    "    \n",
    "    c = c.lower()\n",
    "    if c not in alphabet:\n",
    "        alphabet[c] = 1\n",
    "    else:\n",
    "        alphabet[c] += 1\n",
    "\n",
    "print(alphabet)"
   ]
  },
  {
   "cell_type": "code",
   "execution_count": 10,
   "metadata": {},
   "outputs": [
    {
     "output_type": "stream",
     "name": "stdout",
     "text": [
      "By the rivers of babylon, there we sat down\nyeah we wept, when we remember zion.\nWhen the wicked carried us away in captivity\nrequired from us a song\nnow how shall we sing the lord's song in a strange land\n['By the rivers of babylon, there we sat down', 'yeah we wept, when we remember zion.', 'When the wicked carried us away in captivity', 'required from us a song', \"now how shall we sing the lord's song in a strange land\"]\n{'by': 1, 'the': 3, 'rivers': 1, 'of': 1, 'babylon,': 1, 'there': 1, 'we': 4, 'sat': 1, 'down': 1, 'yeah': 1, 'wept,': 1, 'when': 2, 'remember': 1, 'zion.': 1, 'wicked': 1, 'carried': 1, 'us': 2, 'away': 1, 'in': 2, 'captivity': 1, 'required': 1, 'from': 1, 'a': 2, 'song': 2, 'now': 1, 'how': 1, 'shall': 1, 'sing': 1, \"lord's\": 1, 'strange': 1, 'land': 1}\n"
     ]
    }
   ],
   "source": [
    "# word counting\n",
    "\n",
    "song = \"\"\"By the rivers of babylon, there we sat down\n",
    "yeah we wept, when we remember zion.\n",
    "When the wicked carried us away in captivity\n",
    "required from us a song\n",
    "now how shall we sing the lord's song in a strange land\"\"\"\n",
    "\n",
    "word_dict = dict()  # {}\n",
    "print(song)  # 문자열은 불변객체라 수정 불가, 그대로 문자열\n",
    "print(song.splitlines())  # 라인단위의 리스트\n",
    "\n",
    "for line in song.splitlines():\n",
    "    for word in line.split():\n",
    "        word = word.lower()\n",
    "        if word not in word_dict:\n",
    "            word_dict[word] = 1\n",
    "        else:\n",
    "            word_dict[word] += 1\n",
    "        \n",
    "print(word_dict)"
   ]
  },
  {
   "cell_type": "code",
   "execution_count": 11,
   "metadata": {},
   "outputs": [
    {
     "output_type": "stream",
     "name": "stdout",
     "text": [
      "a : 12\nb : 4\nc : 3\nd : 6\ne : 22\nf : 2\ng : 4\nh : 9\ni : 10\nk : 1\nl : 5\nm : 3\nn : 13\no : 10\np : 2\nq : 1\nr : 12\ns : 10\nt : 9\nu : 3\nv : 2\nw : 12\ny : 5\nz : 1\n"
     ]
    }
   ],
   "source": [
    "# 사전은 순서 없음\n",
    "# 정렬된 순서대로 출력하기\n",
    "\n",
    "dic_key = list(alphabet.keys())\n",
    "dic_key.sort()\n",
    "for i in dic_key:\n",
    "    alpha_num = alphabet[i]\n",
    "    print(f\"{i} : {alpha_num}\")"
   ]
  },
  {
   "source": [
    "#### 집합\n",
    "##### 집합 연산"
   ],
   "cell_type": "markdown",
   "metadata": {}
  },
  {
   "cell_type": "code",
   "execution_count": 12,
   "metadata": {},
   "outputs": [
    {
     "output_type": "stream",
     "name": "stdout",
     "text": [
      "교집합 {12, 6}\n합집합 {2, 3, 4, 6, 8, 9, 10, 12, 15}\n차집합 {8, 2, 10, 4}\n차집합 {9, 3, 15}\n배타적 차집합 {2, 3, 4, 8, 9, 10, 15}\n"
     ]
    }
   ],
   "source": [
    "twox = {2, 4, 6, 8, 10, 12}\n",
    "threex = {3, 6, 9, 12, 15}\n",
    "\n",
    "print(\"교집합\", twox & threex)\n",
    "print(\"합집합\", twox | threex)\n",
    "print(\"차집합\", twox - threex)\n",
    "print(\"차집합\", threex - twox)\n",
    "print(\"배타적 차집합\", twox ^ threex)"
   ]
  }
 ]
}
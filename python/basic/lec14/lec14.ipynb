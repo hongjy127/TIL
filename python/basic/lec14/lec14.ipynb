{
 "metadata": {
  "language_info": {
   "codemirror_mode": {
    "name": "ipython",
    "version": 3
   },
   "file_extension": ".py",
   "mimetype": "text/x-python",
   "name": "python",
   "nbconvert_exporter": "python",
   "pygments_lexer": "ipython3",
   "version": "3.8.5-final"
  },
  "orig_nbformat": 2,
  "kernelspec": {
   "name": "python3",
   "display_name": "Python 3",
   "language": "python"
  }
 },
 "nbformat": 4,
 "nbformat_minor": 2,
 "cells": [
  {
   "source": [
    "### 파일"
   ],
   "cell_type": "markdown",
   "metadata": {}
  },
  {
   "cell_type": "code",
   "execution_count": 4,
   "metadata": {},
   "outputs": [],
   "source": [
    "f = open(\"live.txt\", \"wt\", encoding=\"utf-8\")  # window 운영체제의 defualt: CP959(EUC-KR) 로 저장 -> encoding\n",
    "f.write(\"\"\"삶이 그대를 속일지라도\n",
    "슬퍼하거나 노하지 말라!\n",
    "우울한 날들을 견디면\n",
    "믿으라, 기쁨의 날이 오리니\"\"\")\n",
    "f.close()"
   ]
  },
  {
   "cell_type": "code",
   "execution_count": 7,
   "metadata": {},
   "outputs": [],
   "source": [
    "# w: 기존 데이터 삭제\n",
    "\n",
    "f = open(\"live.txt\", \"wt\", encoding=\"utf-8\")\n",
    "f.write(\"\"\"삶이 그대를 속일지라도\n",
    "슬퍼하거나 노하지 말라!\"\"\")\n",
    "f.close()"
   ]
  },
  {
   "cell_type": "code",
   "execution_count": 9,
   "metadata": {},
   "outputs": [],
   "source": [
    "# a: 기존 데이터에 추가\n",
    "\n",
    "f = open(\"live.txt\", \"at\", encoding=\"utf-8\")\n",
    "f.write(\"\"\"삶이 그대를 속일지라도\n",
    "슬퍼하거나 노하지 말라!\"\"\")\n",
    "f.close()"
   ]
  },
  {
   "cell_type": "code",
   "execution_count": null,
   "metadata": {},
   "outputs": [],
   "source": [
    "# 절대경로에 추가\n",
    "# \\는 이스케이프문자이므로 \\\\로 표기\n",
    "# 경로 구분 문자 windows : \\, linux/max : / 이지만 일반적으로 /를 씀\n",
    "\n",
    "f = open(\"c:/Temp/live.txt\", \"wt\", encoding=\"utf-8\")\n",
    "f.write(\"\"\"삶이 그대를 속일지라도\n",
    "슬퍼하거나 노하지 말라!\"\"\")\n",
    "f.write(\"\"\"\n",
    "추가\"\"\")\n",
    "f.close()"
   ]
  },
  {
   "cell_type": "code",
   "execution_count": 14,
   "metadata": {},
   "outputs": [
    {
     "output_type": "stream",
     "name": "stdout",
     "text": [
      "삶이 그대를 속일지라도\n슬퍼하거나 노하지 말라!\n추가\n"
     ]
    }
   ],
   "source": [
    "# 파일이 없을수도 있으니 꼭 예외작업 하기\n",
    "# f를 열지 못하면 finally에서 오류가 남\n",
    "\n",
    "try:\n",
    "    f = open(\"live.txt\",\"rt\", encoding='UTF-8')\n",
    "    text = f.read()\n",
    "    print(text)\n",
    "except Exception as e:\n",
    "    print(e)\n",
    "finally:\n",
    "    f.close()"
   ]
  },
  {
   "cell_type": "code",
   "execution_count": 11,
   "metadata": {},
   "outputs": [
    {
     "output_type": "stream",
     "name": "stdout",
     "text": [
      "예외발생: 'cp949' codec can't decode byte 0xec in position 0: illegal multibyte sequence\n"
     ]
    }
   ],
   "source": [
    "# 파일을 열 땐 항상 이렇게\n",
    "\n",
    "try:\n",
    "    with open(\"live.txt\", \"rt\") as f:\n",
    "        # 파일이 안열리면 finally가 오류가 나기 때문에 with사용\n",
    "        # with를 사용하면 with를 벗어날 때 변수를 close 해줌\n",
    "        text = f.read()  # 예외 발생 시 with 블럭을 벗어날 때 close() 자동 호출됨\n",
    "        print(text)\n",
    "except Exception as e:\n",
    "    print(f\"예외발생: {e}\")"
   ]
  },
  {
   "cell_type": "code",
   "execution_count": 18,
   "metadata": {},
   "outputs": [
    {
     "output_type": "stream",
     "name": "stdout",
     "text": [
      "1:삶이 그대를 속일지라도\n2:슬퍼하거나 노하지 말라!\n3:\n4:추가\n5:\n\n"
     ]
    }
   ],
   "source": [
    "try:\n",
    "    with open(\"live.txt\",\"rt\",encoding='UTF-8') as f:\n",
    "        text = \"\"\n",
    "        line = 1\n",
    "        while True:\n",
    "            row = f.readline()  # EOF에서 이 작업을 하면 None return\n",
    "            if not row: break  # roof 벗어나기\n",
    "            text += str(line) + \":\" + row\n",
    "            line += 1\n",
    "    print(text)\n",
    "except Exception as e:\n",
    "    print(f\"예외발생: {e}\")"
   ]
  },
  {
   "cell_type": "code",
   "execution_count": 4,
   "metadata": {},
   "outputs": [
    {
     "output_type": "stream",
     "name": "stdout",
     "text": [
      "0: 삶이 그대를 속일지라도\n1: 슬퍼하거나 노하지 말라!\n2: \n3: 추가\n4: \n"
     ]
    }
   ],
   "source": [
    "# for 쓰기\n",
    "try:\n",
    "    with open(\"live.txt\",\"rt\",encoding='UTF-8') as f:\n",
    "        rows = f.readlines()\n",
    "        for i, row in enumerate(rows):\n",
    "            print(f\"{i}: {row}\", end='')\n",
    "except Exception as e:\n",
    "    print(f\"예외발생: {e}\")"
   ]
  },
  {
   "cell_type": "code",
   "execution_count": 6,
   "metadata": {},
   "outputs": [
    {
     "output_type": "stream",
     "name": "stdout",
     "text": [
      "0: 삶이 그대를 속일지라도\n1: 슬퍼하거나 노하지 말라!\n2: \n3: 추가\n4: \n"
     ]
    }
   ],
   "source": [
    "# 파일을 바로 for문에 넣을 수 있음 -> 이 떄 반환되는건 line\n",
    "try:\n",
    "    with open(\"live.txt\",\"rt\",encoding='UTF-8') as f:\n",
    "        for i, row in enumerate(f):\n",
    "            print(f\"{i}: {row}\", end='')\n",
    "except Exception as e:\n",
    "    print(f\"예외발생: {e}\")"
   ]
  }
 ]
}
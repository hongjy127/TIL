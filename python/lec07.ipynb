{
 "metadata": {
  "language_info": {
   "codemirror_mode": {
    "name": "ipython",
    "version": 3
   },
   "file_extension": ".py",
   "mimetype": "text/x-python",
   "name": "python",
   "nbconvert_exporter": "python",
   "pygments_lexer": "ipython3",
   "version": "3.8.5-final"
  },
  "orig_nbformat": 2,
  "kernelspec": {
   "name": "python3",
   "display_name": "Python 3",
   "language": "python"
  }
 },
 "nbformat": 4,
 "nbformat_minor": 2,
 "cells": [
  {
   "source": [
    "# 함수"
   ],
   "cell_type": "markdown",
   "metadata": {}
  },
  {
   "cell_type": "code",
   "execution_count": 1,
   "metadata": {},
   "outputs": [
    {
     "output_type": "stream",
     "name": "stdout",
     "text": [
      "25\n25\nNone\n"
     ]
    }
   ],
   "source": [
    "# begin부터 end까지 더하는 함수 \n",
    "def calcrange(begin, end):\n",
    "    total = 0\n",
    "    for num in range(begin, end+1):\n",
    "        total += num\n",
    "    return total\n",
    "\n",
    "a = calcrange(3, 7)\n",
    "print(a)\n",
    "\n",
    "# 이 경우 return 값이 없음\n",
    "def calcrange(begin, end):\n",
    "    total = 0\n",
    "    for num in range(begin, end+1):\n",
    "        total += num\n",
    "    print(total)\n",
    "\n",
    "a = calcrange(3, 7)\n",
    "print(a)"
   ]
  },
  {
   "source": [
    "## 기본값 지정"
   ],
   "cell_type": "markdown",
   "metadata": {}
  },
  {
   "cell_type": "code",
   "execution_count": 2,
   "metadata": {},
   "outputs": [
    {
     "output_type": "stream",
     "name": "stdout",
     "text": [
      "25\n15\n"
     ]
    }
   ],
   "source": [
    "def calcstep(begin, end, step=1):\n",
    "    total = 0\n",
    "    for num in range(begin, end+1, step):\n",
    "        total += num\n",
    "    return total\n",
    "\n",
    "print(calcstep(3, 7))\n",
    "print(calcstep(3, 7, 2))"
   ]
  },
  {
   "source": [
    "## 가변인수"
   ],
   "cell_type": "markdown",
   "metadata": {}
  },
  {
   "source": [
    "def intsum(*ints):\n",
    "    total = 0\n",
    "    for num in ints:\n",
    "        total += num\n",
    "    return total\n",
    "\n",
    "print(intsum(1, 2, 3))\n",
    "print(intsum(1, 2, 3, 4, 5))\n",
    "# 틀린 표현\n",
    "# print(intsum(range(1,5)))\n",
    "# range(1,3)이 들어가면 ((1, 2, 3, 4))가 들어감"
   ],
   "cell_type": "code",
   "metadata": {},
   "execution_count": 3,
   "outputs": [
    {
     "output_type": "stream",
     "name": "stdout",
     "text": [
      "6\n15\n"
     ]
    }
   ]
  },
  {
   "source": [
    "## 키워드 가변인수"
   ],
   "cell_type": "markdown",
   "metadata": {}
  },
  {
   "cell_type": "code",
   "execution_count": 4,
   "metadata": {},
   "outputs": [
    {
     "output_type": "stream",
     "name": "stdout",
     "text": [
      "970\n"
     ]
    }
   ],
   "source": [
    "def calcstep(**args):\n",
    "    begin = args['begin']\n",
    "    end = args['end']\n",
    "    step = args['step']\n",
    "\n",
    "    total = 0\n",
    "    for num in range(begin, end+1, step):\n",
    "        total += num\n",
    "    return total\n",
    "\n",
    "print(calcstep(begin=1, end=100, step=5))"
   ]
  },
  {
   "source": [
    "## 모두 사용"
   ],
   "cell_type": "markdown",
   "metadata": {}
  },
  {
   "cell_type": "code",
   "execution_count": 5,
   "metadata": {},
   "outputs": [
    {
     "output_type": "stream",
     "name": "stdout",
     "text": [
      "홍정연\ntotal score:  264\naverage score:  88.0\nNone\n홍정연\ntotal score:  264\nNone\n"
     ]
    }
   ],
   "source": [
    "def calcscore(name, *score, **option):\n",
    "    print(name)\n",
    "    total = 0\n",
    "    for s in score:\n",
    "        total += s\n",
    "\n",
    "    print(\"total score: \", total)\n",
    "    if (option['avg'] == True):\n",
    "        print('average score: ', total/len(score))\n",
    "\n",
    "print(calcscore(\"홍정연\", 88, 99, 77, avg=True))\n",
    "print(calcscore(\"홍정연\", 88, 99, 77, avg=False))"
   ]
  }
 ]
}
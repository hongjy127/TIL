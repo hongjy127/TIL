{
 "metadata": {
  "language_info": {
   "codemirror_mode": {
    "name": "ipython",
    "version": 3
   },
   "file_extension": ".py",
   "mimetype": "text/x-python",
   "name": "python",
   "nbconvert_exporter": "python",
   "pygments_lexer": "ipython3",
   "version": "3.8.5-final"
  },
  "orig_nbformat": 2,
  "kernelspec": {
   "name": "python3",
   "display_name": "Python 3",
   "language": "python"
  }
 },
 "nbformat": 4,
 "nbformat_minor": 2,
 "cells": [
  {
   "source": [
    "### 함수"
   ],
   "cell_type": "markdown",
   "metadata": {}
  },
  {
   "cell_type": "code",
   "execution_count": 1,
   "metadata": {},
   "outputs": [
    {
     "output_type": "stream",
     "name": "stdout",
     "text": [
      "25\n25\nNone\n"
     ]
    }
   ],
   "source": [
    "# begin부터 end까지 더하는 함수 \n",
    "def calcrange(begin, end):\n",
    "    total = 0\n",
    "    for num in range(begin, end+1):\n",
    "        total += num\n",
    "    return total\n",
    "\n",
    "a = calcrange(3, 7)\n",
    "print(a)\n",
    "\n",
    "# 이 경우 return 값이 없음\n",
    "def calcrange(begin, end):\n",
    "    total = 0\n",
    "    for num in range(begin, end+1):\n",
    "        total += num\n",
    "    print(total)\n",
    "\n",
    "a = calcrange(3, 7)\n",
    "print(a)"
   ]
  },
  {
   "source": [
    "- 기본값 지정"
   ],
   "cell_type": "markdown",
   "metadata": {}
  },
  {
   "cell_type": "code",
   "execution_count": 2,
   "metadata": {},
   "outputs": [
    {
     "output_type": "stream",
     "name": "stdout",
     "text": [
      "25\n15\n"
     ]
    }
   ],
   "source": [
    "def calcstep(begin, end, step=1):\n",
    "    total = 0\n",
    "    for num in range(begin, end+1, step):\n",
    "        total += num\n",
    "    return total\n",
    "\n",
    "print(calcstep(3, 7))\n",
    "print(calcstep(3, 7, 2))"
   ]
  },
  {
   "source": [
    "- 람다함수"
   ],
   "cell_type": "markdown",
   "metadata": {}
  },
  {
   "cell_type": "code",
   "execution_count": 3,
   "metadata": {},
   "outputs": [
    {
     "output_type": "error",
     "ename": "SyntaxError",
     "evalue": "invalid syntax (<ipython-input-3-b84b0be150e5>, line 5)",
     "traceback": [
      "\u001b[1;36m  File \u001b[1;32m\"<ipython-input-3-b84b0be150e5>\"\u001b[1;36m, line \u001b[1;32m5\u001b[0m\n\u001b[1;33m    returen a[0]\u001b[0m\n\u001b[1;37m            ^\u001b[0m\n\u001b[1;31mSyntaxError\u001b[0m\u001b[1;31m:\u001b[0m invalid syntax\n"
     ]
    }
   ],
   "source": [
    "# 함수를 간단하게 / 한줄로 표현되는 함수만\n",
    "# 다른 언어에서 자주씀\n",
    "\n",
    "def get_value(a):\n",
    "    returen a[0]\n",
    "\n",
    "f = lambda a : a[0]"
   ]
  },
  {
   "source": [
    "- 가변인수"
   ],
   "cell_type": "markdown",
   "metadata": {}
  },
  {
   "source": [
    "def intsum(*ints):\n",
    "    total = 0\n",
    "    for num in ints:\n",
    "        total += num\n",
    "    return total\n",
    "\n",
    "print(intsum(1, 2, 3))\n",
    "print(intsum(1, 2, 3, 4, 5))\n",
    "\n",
    "# 틀린 표현\n",
    "# print(intsum(range(1,5)))\n",
    "# range(1,3)이 들어가면 ((1, 2, 3, 4))가 들어감\n",
    "\n",
    "li = [1,2,3]\n",
    "print(intsum(*li))"
   ],
   "cell_type": "code",
   "metadata": {},
   "execution_count": 4,
   "outputs": [
    {
     "output_type": "stream",
     "name": "stdout",
     "text": [
      "6\n15\n6\n"
     ]
    }
   ]
  },
  {
   "source": [
    "- 키워드 가변인수"
   ],
   "cell_type": "markdown",
   "metadata": {}
  },
  {
   "cell_type": "code",
   "execution_count": 5,
   "metadata": {},
   "outputs": [
    {
     "output_type": "stream",
     "name": "stdout",
     "text": [
      "{'begin': 1, 'end': 100, 'step': 5}\n970\n"
     ]
    }
   ],
   "source": [
    "def calcstep(**args):\n",
    "    print(args)  # args가 dictionary임을 알 수 있음\n",
    "    begin = args['begin']\n",
    "    end = args['end']\n",
    "    step = args['step']\n",
    "\n",
    "    total = 0\n",
    "    for num in range(begin, end+1, step):\n",
    "        total += num\n",
    "    return total\n",
    "\n",
    "print(calcstep(begin=1, end=100, step=5))\n",
    "# print(calcstep(begin=1, end=100)) 존재하지 않는 keyError"
   ]
  },
  {
   "cell_type": "code",
   "execution_count": 6,
   "metadata": {},
   "outputs": [
    {
     "output_type": "stream",
     "name": "stdout",
     "text": [
      "{'begin': 1, 'end': 100}\n5050\n{'end': 100}\n5050\n"
     ]
    }
   ],
   "source": [
    "def calcstep(**args):\n",
    "    print(args)  # args가 dictionary임을 알 수 있음\n",
    "    begin = args.get('begin',1)  # Option\n",
    "    end = args['end']\n",
    "    step = args.get('step',1)  # Option\n",
    "\n",
    "    total = 0\n",
    "    for num in range(begin, end+1, step):\n",
    "        total += num\n",
    "    return total\n",
    "\n",
    "print(calcstep(begin=1, end=100))  # 이때는 가능함\n",
    "print(calcstep(end=100))"
   ]
  },
  {
   "cell_type": "code",
   "execution_count": 7,
   "metadata": {},
   "outputs": [
    {
     "output_type": "stream",
     "name": "stdout",
     "text": [
      "{'boy': '소년'}\n([1, 2, 3],)\n(1, 2, 3)\n"
     ]
    }
   ],
   "source": [
    "# 호출할 때는 인수를 넣어줘야함, dict를 그대로 넣으면 안됨\n",
    "# 그대로 넣으려면 **dict로\n",
    "\n",
    "def test(**kargs):\n",
    "    print(kargs)\n",
    "\n",
    "dic = {\n",
    "    'boy': '소년'\n",
    "}\n",
    "\n",
    "# test(dic)\n",
    "test(**dic)\n",
    "\n",
    "def test1(*args):\n",
    "    print(args)\n",
    "\n",
    "l = [1, 2, 3]\n",
    "test1(l)\n",
    "test1(*l)"
   ]
  },
  {
   "source": [
    "- 모두 사용"
   ],
   "cell_type": "markdown",
   "metadata": {}
  },
  {
   "cell_type": "code",
   "execution_count": 8,
   "metadata": {},
   "outputs": [
    {
     "output_type": "stream",
     "name": "stdout",
     "text": [
      "홍정연\ntotal score:  264\naverage score:  88.0\nNone\n홍정연\ntotal score:  264\nNone\n"
     ]
    }
   ],
   "source": [
    "def calcscore(name, *score, **option):\n",
    "    print(name)\n",
    "    total = 0\n",
    "    for s in score:\n",
    "        total += s\n",
    "\n",
    "    print(\"total score: \", total)\n",
    "    if (option['avg'] == True):  # option은 필수요소\n",
    "        print('average score: ', total/len(score))\n",
    "\n",
    "print(calcscore(\"홍정연\", 88, 99, 77, avg=True))\n",
    "print(calcscore(\"홍정연\", 88, 99, 77, avg=False))"
   ]
  },
  {
   "cell_type": "code",
   "execution_count": 9,
   "metadata": {},
   "outputs": [
    {
     "output_type": "stream",
     "name": "stdout",
     "text": [
      "홍정연\ntotal score:  364\naverage score:  91.0\nNone\n홍정연\ntotal score:  364\naverage score:  91.0\nNone\n홍정연\ntotal score:  444\nNone\n"
     ]
    }
   ],
   "source": [
    "def calcscore(name, *score, **option):\n",
    "    print(name)\n",
    "    total = 0\n",
    "    for s in score:\n",
    "        total += s\n",
    "\n",
    "    print(\"total score: \", total)\n",
    "    if (option.get('avg',True) == True):  # option은 선택요소\n",
    "        print('average score: ', total/len(score))\n",
    "\n",
    "print(calcscore(\"홍정연\", 88, 99, 77, 100, avg=True))\n",
    "print(calcscore(\"홍정연\", 88, 99, 77, 100))\n",
    "print(calcscore(\"홍정연\", 88, 99, 77, 100, 80, avg=False))"
   ]
  },
  {
   "cell_type": "code",
   "execution_count": 10,
   "metadata": {},
   "outputs": [],
   "source": [
    "def some(*args, **kargs):\n",
    "    pass\n",
    "\n",
    "# 다 가능\n",
    "\n",
    "some()\n",
    "some(1)\n",
    "some(1,2,3)\n",
    "some(a=1)\n",
    "some(1,2,3,a=1)\n",
    "some(1,2,3,a=1,b=1)"
   ]
  }
 ]
}
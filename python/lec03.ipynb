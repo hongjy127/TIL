{
 "metadata": {
  "language_info": {
   "codemirror_mode": {
    "name": "ipython",
    "version": 3
   },
   "file_extension": ".py",
   "mimetype": "text/x-python",
   "name": "python",
   "nbconvert_exporter": "python",
   "pygments_lexer": "ipython3",
   "version": "3.8.5-final"
  },
  "orig_nbformat": 2,
  "kernelspec": {
   "name": "python3",
   "display_name": "Python 3",
   "language": "python"
  }
 },
 "nbformat": 4,
 "nbformat_minor": 2,
 "cells": [
  {
   "source": [
    "## 수치형\n",
    "### 정수"
   ],
   "cell_type": "markdown",
   "metadata": {}
  },
  {
   "cell_type": "code",
   "execution_count": 1,
   "metadata": {},
   "outputs": [
    {
     "output_type": "stream",
     "name": "stdout",
     "text": [
      "1234567890\n1417417260103558770214252423976142668502309843289216833019048237594757708238986182489372231899746980921982728329402793285767462862882464121635860400730716254039942351084846547018518131114125220170734365519774681825663555080960088448187700306662591033835497547065849829393393851336850513516716654954594842407071059129565467264692831108320130483612672587797723547589358874240495338978427064891700798459028240889817739929243620390292500203679620864971533914260827834601579209314189120626901904458486936727622905582367388818325467159626747054599568953786703562122799941680845141148189896305104641344839457223830507901762718528867396981775965176554700698356765830690713630912519126290583362303892345035739308972274807594103376959348593678587147932967060392101430789829817061010598621196674073173467189374435975660010000000000000000000000000000000000000000000000000000000000000000000000000000000000000000000000000000\n"
     ]
    }
   ],
   "source": [
    "a = 1234567890\n",
    "print(a)\n",
    "print(a ** 100)  # ** : 거듭제곱"
   ]
  },
  {
   "cell_type": "code",
   "execution_count": 2,
   "metadata": {},
   "outputs": [
    {
     "output_type": "stream",
     "name": "stdout",
     "text": [
      "26\n15\n13\n0xd\n0o15\n0b1101\n"
     ]
    }
   ],
   "source": [
    "a = 0x1a  # 16진법\n",
    "print(a)\n",
    "\n",
    "b = 0o17  # 8진법\n",
    "print(b)\n",
    "\n",
    "c = 0b1101  # 2진법\n",
    "print(c)\n",
    "\n",
    "print(hex(c))  # 2진법 -> 16진법\n",
    "print(oct(c))  # 2진법 -> 8진법\n",
    "print(bin(c))  # 2진법 -> 2진법"
   ]
  },
  {
   "source": [
    "### 실수"
   ],
   "cell_type": "markdown",
   "metadata": {}
  },
  {
   "cell_type": "code",
   "execution_count": 3,
   "metadata": {},
   "outputs": [
    {
     "output_type": "stream",
     "name": "stdout",
     "text": [
      "9460000000000.0\n"
     ]
    }
   ],
   "source": [
    "a = 9.46e12\n",
    "print(a)"
   ]
  },
  {
   "source": [
    "### 복소수"
   ],
   "cell_type": "markdown",
   "metadata": {}
  },
  {
   "cell_type": "code",
   "execution_count": 4,
   "metadata": {},
   "outputs": [
    {
     "output_type": "stream",
     "name": "stdout",
     "text": [
      "(3+6j)\n"
     ]
    }
   ],
   "source": [
    "a = 1+2j\n",
    "b = 2+4j\n",
    "print(a+b)"
   ]
  },
  {
   "source": [
    "## 문자열"
   ],
   "cell_type": "markdown",
   "metadata": {}
  },
  {
   "cell_type": "code",
   "execution_count": 5,
   "metadata": {},
   "outputs": [
    {
     "output_type": "stream",
     "name": "stdout",
     "text": [
      "string\nstring\n"
     ]
    }
   ],
   "source": [
    "a = \"string\"\n",
    "print(a)\n",
    "\n",
    "a = 'string'\n",
    "print(a)\n",
    "\n",
    "# 틀린표현\n",
    "# \"string' or 'string\""
   ]
  },
  {
   "cell_type": "code",
   "execution_count": 6,
   "metadata": {},
   "outputs": [
    {
     "output_type": "stream",
     "name": "stdout",
     "text": [
      "여러 줄에 걸쳐\n문자열을 정의하는 경우\n여러 줄에 걸쳐\n문자열을 정의하는 경우\n"
     ]
    }
   ],
   "source": [
    "s = \"\"\"여러 줄에 걸쳐\n",
    "문자열을 정의하는 경우\"\"\"\n",
    "print(s)\n",
    "\n",
    "s = '''여러 줄에 걸쳐\n",
    "문자열을 정의하는 경우'''\n",
    "print(s)\n",
    "\n",
    "# 틀린표현\n",
    "# s = \"여러 줄에 걸쳐\n",
    "# 문자열을 정의하는 경우\"\n",
    "# s = '여러 줄에 걸쳐\n",
    "# 문자열을 정의하는 경우'"
   ]
  },
  {
   "cell_type": "code",
   "execution_count": 7,
   "metadata": {},
   "outputs": [
    {
     "output_type": "stream",
     "name": "stdout",
     "text": [
      "koreajapan2002\nkoreajapan2002\n"
     ]
    }
   ],
   "source": [
    "s = \"korea\" \"japan\" \"2002\"\n",
    "print(s)\n",
    "\n",
    "s = (\"korea\"\n",
    "    \"japan\"\n",
    "    \"2002\")\n",
    "print(s)"
   ]
  },
  {
   "cell_type": "code",
   "execution_count": 8,
   "metadata": {},
   "outputs": [
    {
     "output_type": "stream",
     "name": "stdout",
     "text": [
      "31536000\n"
     ]
    }
   ],
   "source": [
    "linecontinue = 365*24*\\\n",
    "    60*60\n",
    "print(linecontinue)\n",
    "\n",
    "# 틀린표현\n",
    "# linecontinue = 365*24*\n",
    "#    60*60"
   ]
  },
  {
   "cell_type": "code",
   "execution_count": 9,
   "metadata": {},
   "outputs": [
    {
     "output_type": "stream",
     "name": "stdout",
     "text": [
      "I say 'Hello' to you\nI say \"Hello\" to you\nI say \"Hello\" to you\nI say 'Hello' to you\n"
     ]
    }
   ],
   "source": [
    "a = \"I say 'Hello' to you\"\n",
    "print(a)\n",
    "\n",
    "a = 'I say \"Hello\" to you'\n",
    "print(a)\n",
    "\n",
    "# 틀린표현\n",
    "# a = \"I say \"Hello\" to you\" or\n",
    "# a = 'I say 'Hello' to you'\n",
    "\n",
    "a = \"I say \\\"Hello\\\" to you\"\n",
    "print(a)\n",
    "\n",
    "a = 'I say \\'Hello\\' to you'\n",
    "print(a)"
   ]
  },
  {
   "cell_type": "code",
   "execution_count": 10,
   "metadata": {},
   "outputs": [
    {
     "output_type": "stream",
     "name": "stdout",
     "text": [
      "first\nsecond\nfirst\tsecond\n"
     ]
    }
   ],
   "source": [
    "a = 'first\\nsecond'\n",
    "print(a)\n",
    "\n",
    "a = 'first\\tsecond'\n",
    "print(a)"
   ]
  },
  {
   "cell_type": "code",
   "execution_count": 11,
   "metadata": {},
   "outputs": [
    {
     "output_type": "stream",
     "name": "stdout",
     "text": [
      "97\na\na 97\nb 98\nc 99\nd 100\ne 101\nf 102\ng 103\nh 104\ni 105\nj 106\nk 107\nl 108\nm 109\nn 110\no 111\np 112\nq 113\nr 114\ns 115\nt 116\nu 117\nv 118\nw 119\nx 120\ny 121\nz 122\n"
     ]
    }
   ],
   "source": [
    "print(ord('a'))  # 97\n",
    "print(chr(97))  # a\n",
    "\n",
    "# abc...z 출력\n",
    "for c in range(ord('a'),ord('z')+1):\n",
    "    print(chr(c), c)"
   ]
  },
  {
   "source": [
    "## 컬렉션\n",
    "### 리스트"
   ],
   "cell_type": "markdown",
   "metadata": {}
  },
  {
   "cell_type": "code",
   "execution_count": 12,
   "metadata": {},
   "outputs": [
    {
     "output_type": "stream",
     "name": "stdout",
     "text": [
      "<class 'list'>\n['손오공', '저팔계', '사오정', '삼장법사']\n"
     ]
    }
   ],
   "source": [
    "member = ['손오공', '저팔계', '사오정', '삼장법사']\n",
    "print(type(member))\n",
    "print(member)"
   ]
  },
  {
   "source": [
    "### 튜플"
   ],
   "cell_type": "markdown",
   "metadata": {}
  },
  {
   "cell_type": "code",
   "execution_count": 13,
   "metadata": {},
   "outputs": [
    {
     "output_type": "stream",
     "name": "stdout",
     "text": [
      "<class 'tuple'>\n('손오공', '저팔계', '사오정', '삼장법사')\n"
     ]
    }
   ],
   "source": [
    "member = ('손오공', '저팔계', '사오정', '삼장법사')\n",
    "print(type(member))\n",
    "print(member)"
   ]
  },
  {
   "cell_type": "code",
   "execution_count": 14,
   "metadata": {},
   "outputs": [
    {
     "output_type": "stream",
     "name": "stdout",
     "text": [
      "5\n<class 'int'>\nTrue\n<class 'bool'>\na는 5입니다\n"
     ]
    }
   ],
   "source": [
    "a = 5\n",
    "b = a==5  # a가 5인지 아닌지 확인한 값을 b에 대입\n",
    "\n",
    "print(a)\n",
    "print(type(a))\n",
    "print(b)\n",
    "print(type(b))\n",
    "\n",
    "if a == 5:\n",
    "    print('a는 5입니다')"
   ]
  },
  {
   "cell_type": "code",
   "execution_count": 15,
   "metadata": {},
   "outputs": [
    {
     "output_type": "stream",
     "name": "stdout",
     "text": [
      "None\n"
     ]
    }
   ],
   "source": [
    "a = None\n",
    "print(a)"
   ]
  }
 ]
}
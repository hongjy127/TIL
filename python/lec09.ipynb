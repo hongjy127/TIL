{
 "metadata": {
  "language_info": {
   "codemirror_mode": {
    "name": "ipython",
    "version": 3
   },
   "file_extension": ".py",
   "mimetype": "text/x-python",
   "name": "python",
   "nbconvert_exporter": "python",
   "pygments_lexer": "ipython3",
   "version": "3.8.5-final"
  },
  "orig_nbformat": 2,
  "kernelspec": {
   "name": "python3",
   "display_name": "Python 3",
   "language": "python"
  }
 },
 "nbformat": 4,
 "nbformat_minor": 2,
 "cells": [
  {
   "source": [
    "## 리스트"
   ],
   "cell_type": "markdown",
   "metadata": {}
  },
  {
   "cell_type": "code",
   "execution_count": 1,
   "metadata": {},
   "outputs": [
    {
     "output_type": "stream",
     "name": "stdout",
     "text": [
      "['k', 'o', 'r', 'e', 'a']\n"
     ]
    }
   ],
   "source": [
    "print(list(\"korea\"))\n",
    "\n",
    "# 틀린 표현\n",
    "# list = [1, 2, 3, 4]\n",
    "# list를 변수명으로 사용한 경우 list()를 제대로 사용할 수 없음"
   ]
  },
  {
   "source": [
    "### index"
   ],
   "cell_type": "markdown",
   "metadata": {}
  },
  {
   "cell_type": "code",
   "execution_count": 9,
   "metadata": {},
   "outputs": [
    {
     "output_type": "stream",
     "name": "stdout",
     "text": [
      "[0, 1, 2, 3, 4, 5, 6, 7, 8, 9]\n[2, 3, 4]\n[0, 1, 2, 3]\n[6, 7, 8, 9]\n[1, 3, 5]\n2\n50\n[0, 1, 50, 3, 4, 5, 6, 7, 8, 9]\n[0, 1, 20, 30, 40, 5, 6, 7, 8, 9]\n[0, 1, 20, 30, 40, 5, 60, 70, 80, 90, 8, 9]\n"
     ]
    }
   ],
   "source": [
    "nums = list(range(0,10))\n",
    "print(nums[:])\n",
    "print(nums[2:5])\n",
    "print(nums[:4])\n",
    "print(nums[6:])\n",
    "print(nums[1:7:2])"
   ]
  },
  {
   "source": [
    "### 리스트 요소 수정"
   ],
   "cell_type": "markdown",
   "metadata": {}
  },
  {
   "cell_type": "code",
   "execution_count": null,
   "metadata": {},
   "outputs": [],
   "source": [
    "print(nums[2])\n",
    "nums[2] = 50\n",
    "print(nums[2])\n",
    "print(nums)\n",
    "\n",
    "# 문자열에서는 불가능(불변객체)\n",
    "# s = \"python\"\n",
    "# s[2] = \"T\"\n",
    "# print(s)\n",
    "# TypeError: 'str' object does not support item assignment\n",
    "\n",
    "# 좌, 우 크기가 같으면 새로운 값으로 대체\n",
    "# 이미지를 다룰 때 편함\n",
    "nums[2:5] = [20, 30, 40]\n",
    "print(nums)\n",
    "# 좌, 우 크기가 다르면 기존 값을 삭제하고 새로운 값을 삽입\n",
    "nums[6:8] = [60, 70, 80, 90]\n",
    "print(nums)"
   ]
  },
  {
   "source": [
    "### 이중리스트"
   ],
   "cell_type": "markdown",
   "metadata": {}
  },
  {
   "cell_type": "code",
   "execution_count": 15,
   "metadata": {},
   "outputs": [
    {
     "output_type": "stream",
     "name": "stdout",
     "text": [
      "[[1, 2, 3], [4, 5], [6, 7, 8, 9]]\n[1, 2, 3]\n[4, 5]\n[6, 7, 8, 9]\n2\n4\n9\n1 2 3 \n4 5 \n6 7 8 9 \n"
     ]
    }
   ],
   "source": [
    "import pprint\n",
    "\n",
    "lol = [\n",
    "    [1, 2, 3],\n",
    "    [4, 5],\n",
    "    [6, 7, 8, 9]\n",
    "]\n",
    "\n",
    "pprint.pprint(lol)\n",
    "\n",
    "print(lol[0])\n",
    "print(lol[1])\n",
    "print(lol[2])\n",
    "\n",
    "print(lol[0][1])\n",
    "print(lol[1][0])\n",
    "print(lol[2][3])\n",
    "\n",
    "for sub in lol:\n",
    "    for item in sub:\n",
    "        print(item, end=' ')\n",
    "    print()"
   ]
  },
  {
   "cell_type": "code",
   "execution_count": 21,
   "metadata": {},
   "outputs": [
    {
     "output_type": "stream",
     "name": "stdout",
     "text": [
      "총점 354, 평균 88.50\n총점 275, 평균 68.75\n총점 328, 평균 82.00\n전체평균 79.75\n"
     ]
    }
   ],
   "source": [
    "score = [\n",
    "    [88, 76, 92, 98],\n",
    "    [65, 70, 58, 82],\n",
    "    [82, 80, 78, 88],\n",
    "]\n",
    "\n",
    "total = 0\n",
    "totalsub = 0\n",
    "\n",
    "for student in score:\n",
    "    subject_total = 0\n",
    "    for subject in student:\n",
    "        subject_total += subject\n",
    "\n",
    "    subjects = len(student)\n",
    "    print(f\"총점 {subject_total}, 평균 {subject_total/subjects:.2f}\")\n",
    "    total += subject_total\n",
    "    totalsub += subjects\n",
    "\n",
    "print(f\"전체평균 {total/totalsub:.2f}\")"
   ]
  },
  {
   "source": [
    "### comprehension"
   ],
   "cell_type": "markdown",
   "metadata": {}
  },
  {
   "source": [
    "nums = [n*2 for n in range(1, 11)]\n",
    "for i in nums:\n",
    "    print(i, end=', ')\n",
    "print('\\n')\n",
    "\n",
    "nums = [n*2 for n in range(1, 11) if n%2==0]\n",
    "for i in nums:\n",
    "    print(i, end=', ')\n",
    "print('\\n')\n",
    "\n",
    "nums = []\n",
    "for n in range(1, 11):\n",
    "    nums.append(n*2)\n",
    "print(nums)"
   ],
   "cell_type": "code",
   "metadata": {},
   "execution_count": 30,
   "outputs": [
    {
     "output_type": "stream",
     "name": "stdout",
     "text": [
      "2, 4, 6, 8, 10, 12, 14, 16, 18, 20, \n\n4, 8, 12, 16, 20, \n\n[2, 4, 6, 8, 10, 12, 14, 16, 18, 20]\n"
     ]
    }
   ]
  },
  {
   "cell_type": "code",
   "execution_count": 36,
   "metadata": {},
   "outputs": [
    {
     "output_type": "stream",
     "name": "stdout",
     "text": [
      "[6, 1, 55, 26, 42, 48, 78, 16, 25, 2, 88, 77, 1, 11, 60, 98, 49, 16, 58, 19, 54, 70, 18, 86, 83, 75, 57, 10, 57, 3, 49, 90, 35, 63, 9, 52, 92, 64, 32, 61, 54, 11, 86, 11, 76, 84, 37, 99, 66, 75]\n"
     ]
    }
   ],
   "source": [
    "# 문제\n",
    "# 1~100 사이의 랜덤 정수 50개를 리스트에 담아라.\n",
    "\n",
    "import random  # random.randrange(1,101)\n",
    "random_numbers = [random.randrange(1, 101) for _ in range(50)]\n",
    "print(random_numbers)"
   ]
  },
  {
   "source": [
    "### 삽입"
   ],
   "cell_type": "markdown",
   "metadata": {}
  },
  {
   "cell_type": "code",
   "execution_count": 40,
   "metadata": {},
   "outputs": [
    {
     "output_type": "stream",
     "name": "stdout",
     "text": [
      "[1, 2, 3, 4, 5]\n[1, 2, 99, 3, 4, 5]\n[1, 2, 90, 91, 92, 99, 3, 4, 5]\n[1, 2, [30, 31, 32], 91, 92, 99, 3, 4, 5]\n"
     ]
    }
   ],
   "source": [
    "nums = [1,2,3,4]\n",
    "nums.append(5)\n",
    "print(nums)\n",
    "\n",
    "# 삭제를 하지 않고 지정한 위치에 값을 삽입\n",
    "nums.insert(2,99)\n",
    "print(nums)\n",
    "\n",
    "# 슬라이싱\n",
    "nums[2:2] = [90,91,92]\n",
    "print(nums)\n",
    "\n",
    "# 해당 요소의 값을 삭제 후 삽입\n",
    "nums[2] = [30,31,32]\n",
    "print(nums)"
   ]
  },
  {
   "source": [
    "### 확장"
   ],
   "cell_type": "markdown",
   "metadata": {}
  },
  {
   "cell_type": "code",
   "execution_count": 41,
   "metadata": {},
   "outputs": [
    {
     "output_type": "stream",
     "name": "stdout",
     "text": [
      "[1, 2, 3, 4, 5]\n[1, 2, 3, 4, 5, 10, 20, 30]\n[1, 2, 3, 4, 5, 10, 20, 30]\n"
     ]
    }
   ],
   "source": [
    "list1 = [1,2,3,4,5]\n",
    "list2 = [10,20,30]\n",
    "list3 = list1+list2  # 대입 가능\n",
    "print(list1)\n",
    "print(list3)\n",
    "list1.extend(list2)  # 원본을 변경\n",
    "print(list1)"
   ]
  },
  {
   "source": [
    "### 삭제"
   ],
   "cell_type": "markdown",
   "metadata": {}
  },
  {
   "cell_type": "code",
   "execution_count": 43,
   "metadata": {},
   "outputs": [
    {
     "output_type": "stream",
     "name": "stdout",
     "text": [
      "[88, 90, 70, 99, 88, 78]\n[88, 90, 99, 88, 78]\n[88, 78]\n78\n[88, 90, 70, 100, 99, 88]\n90\n[88, 70, 100, 99, 88]\n"
     ]
    }
   ],
   "source": [
    "score = [88, 90, 70, 100, 99, 88, 78]\n",
    "score.remove(100)\n",
    "print(score)\n",
    "\n",
    "del(score[2])\n",
    "print(score)\n",
    "\n",
    "score[1:4] = []\n",
    "print(score)\n",
    "\n",
    "score = [88, 90, 70, 100, 99, 88, 78]\n",
    "print(score.pop())\n",
    "print(score)\n",
    "print(score.pop(1))\n",
    "print(score)"
   ]
  },
  {
   "cell_type": "code",
   "execution_count": 45,
   "metadata": {},
   "outputs": [],
   "source": [
    "stack = []  # (LIFO)\n",
    "\n",
    "# stack으로 데이터를 저장\n",
    "stack.append(10)  # 10\n",
    "stack.append(20)  # 10 20\n",
    "stack.append(30)  # 10 20 30\n",
    "\n",
    "# 데이터를 stack에서 꺼내기\n",
    "v1 = stack.pop()  # v1: 30 / 10 20\n",
    "v2 = stack.pop()  # v2: 20 / 10\n",
    "\n",
    "queue = []  # (FIFO, Buffer)\n",
    "\n",
    "# queue로 데이터를 저장\n",
    "stack.append(10)  # 10\n",
    "stack.append(20)  # 10 20\n",
    "stack.append(30)  # 10 20 30\n",
    "\n",
    "# 데이터를 queue에서 꺼내기\n",
    "v1 = stack.pop(0)  # v1: 10 / 20 30\n",
    "v2 = stack.pop(0)  # v2: 20 / 30"
   ]
  },
  {
   "source": [
    "### 삭제"
   ],
   "cell_type": "markdown",
   "metadata": {}
  },
  {
   "cell_type": "code",
   "execution_count": 58,
   "metadata": {},
   "outputs": [
    {
     "output_type": "stream",
     "name": "stdout",
     "text": [
      "[50, 98, 54, 6, 34, 66, 63, 52, 39, 62]\n[50, 98, 34, 6, 54, 66, 63, 52, 39, 62]\n[98, 50, 34, 6, 54, 66, 63, 52, 39, 62]\n"
     ]
    }
   ],
   "source": [
    "# 문제\n",
    "# 1~100 범위에서 10개의 랜덤한 숫자로 된 리스트를 구성하세요.\n",
    "import random\n",
    "\n",
    "random.seed(0)  # 동일한 난수를 뽑기\n",
    "\n",
    "random_numbers = [random.randrange(1, 101) for _ in range(10)]\n",
    "print(random_numbers)\n",
    "\n",
    "# 두 개의 요소를 서로 바꿔주는 함수(swap(list,a,b))\n",
    "\n",
    "def swap(list_name, ix1, ix2):\n",
    "    temp = list_name[ix1]\n",
    "    list_name[ix1] = list_name[ix2]\n",
    "    list_name[ix2] = temp\n",
    "    return list_name\n",
    "\n",
    "random_numbers = swap(random_numbers,2,4)\n",
    "print(random_numbers)\n",
    "\n",
    "# 최대값을 찾아서 0번과 바꾸세요.\n",
    "max_index = random_numbers.index(max(random_numbers))\n",
    "random_numbers = swap(random_numbers,0, max_index)\n",
    "print(random_numbers)"
   ]
  },
  {
   "cell_type": "code",
   "execution_count": 63,
   "metadata": {},
   "outputs": [
    {
     "output_type": "stream",
     "name": "stdout",
     "text": [
      "[98, 66, 63, 62, 54, 52, 50, 39, 34, 6]\n"
     ]
    }
   ],
   "source": [
    "# 내림차순 정렬하기(.sort 쓰면 됨)\n",
    "# 최대값을 맨 앞으로 보내고,\n",
    "# 나머지에서 최대값을 찾아 두번째로 보내고,\n",
    "# 나머지에서 최대값을 찾아 세번째로 보내고, ...\n",
    "\n",
    "for i in range(len(random_numbers)):\n",
    "    max_value = max(random_numbers[i:])\n",
    "    max_index = random_numbers.index(max_value)\n",
    "    random_numbers = swap(random_numbers,i, max_index)\n",
    "\n",
    "print(random_numbers)"
   ]
  },
  {
   "cell_type": "code",
   "execution_count": 66,
   "metadata": {},
   "outputs": [
    {
     "output_type": "stream",
     "name": "stdout",
     "text": [
      "네\n"
     ]
    }
   ],
   "source": [
    "ans = input(\"결제 하시겠습니까?\")\n",
    "\n",
    "ans = ans.lower()\n",
    "if ans in ['yes', 'y', 'ok', '예', '네']:\n",
    "    print(\"결제를 진행합니다.\")\n",
    "else:\n",
    "    print(\"결제를 취소합니다.\")"
   ]
  },
  {
   "cell_type": "code",
   "execution_count": null,
   "metadata": {},
   "outputs": [],
   "source": []
  }
 ]
}
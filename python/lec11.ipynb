{
 "metadata": {
  "language_info": {
   "codemirror_mode": {
    "name": "ipython",
    "version": 3
   },
   "file_extension": ".py",
   "mimetype": "text/x-python",
   "name": "python",
   "nbconvert_exporter": "python",
   "pygments_lexer": "ipython3",
   "version": "3.8.5-final"
  },
  "orig_nbformat": 2,
  "kernelspec": {
   "name": "python3",
   "display_name": "Python 3",
   "language": "python"
  }
 },
 "nbformat": 4,
 "nbformat_minor": 2,
 "cells": [
  {
   "source": [
    "### 컬렉션 관리 함수"
   ],
   "cell_type": "markdown",
   "metadata": {}
  },
  {
   "cell_type": "code",
   "execution_count": 1,
   "metadata": {},
   "outputs": [
    {
     "output_type": "stream",
     "name": "stdout",
     "text": [
      "0번 학생의 성적 : 88\n1번 학생의 성적 : 95\n2번 학생의 성적 : 70\n3번 학생의 성적 : 100\n4번 학생의 성적 : 99\n"
     ]
    }
   ],
   "source": [
    "# enumerate\n",
    "\n",
    "score = [88, 95, 70, 100, 99]\n",
    "list(enumerate(score))\n",
    "\n",
    "for no, s in enumerate(score):  # unpack\n",
    "    print(f\"{no}번 학생의 성적 : {s}\")"
   ]
  },
  {
   "cell_type": "code",
   "execution_count": 2,
   "metadata": {},
   "outputs": [
    {
     "output_type": "stream",
     "name": "stdout",
     "text": [
      "[('월', '갈비탕'), ('화', '순댓국'), ('수', '칼국수'), ('목', '삼겹살')]\n월요일 메뉴: 갈비탕\n화요일 메뉴: 순댓국\n수요일 메뉴: 칼국수\n목요일 메뉴: 삼겹살\n{'월': '갈비탕', '화': '순댓국', '수': '칼국수', '목': '삼겹살'}\n"
     ]
    }
   ],
   "source": [
    "# zip\n",
    "\n",
    "dates = [\"월\", \"화\", \"수\", \"목\", \"금\", \"토\", \"일\"]\n",
    "food = [\"갈비탕\", \"순댓국\", \"칼국수\", \"삼겹살\"]\n",
    "\n",
    "menu = list(zip(dates, food))\n",
    "print(menu)\n",
    "\n",
    "# menu = zip(dates, food)\n",
    "# print(menu)\n",
    "# print(list(menu))\n",
    "\n",
    "for d, f in menu:\n",
    "    print(f\"{d}요일 메뉴: {f}\")\n",
    "\n",
    "menu_dict = dict(zip(dates, food))\n",
    "print(menu_dict)"
   ]
  },
  {
   "cell_type": "code",
   "execution_count": 3,
   "metadata": {},
   "outputs": [
    {
     "output_type": "stream",
     "name": "stdout",
     "text": [
      "['고길동', '홍길동', '둘리', '도우너']\n[['30', '40', '50', '60'], ['70', '90', '60', '56', '78'], ['80', '100', '20', '90', '100'], ['30', '40', '50', '60']]\n{'고길동': ['30', '40', '50', '60'],\n '도우너': ['30', '40', '50', '60'],\n '둘리': ['80', '100', '20', '90', '100'],\n '홍길동': ['70', '90', '60', '56', '78']}\n"
     ]
    }
   ],
   "source": [
    "import pprint\n",
    "info = \"\"\"고길동 홍길동 둘리 도우너\n",
    "30 40 50 60\n",
    "70 90 60 56 78\n",
    "80 100 20 90 100\n",
    "30 40 50 60\"\"\"\n",
    "\n",
    "# zip을 이용해 만들기\n",
    "# {\n",
    "# '고길동': [30, 40, 50, 60]\n",
    "# ...\n",
    "# '도우너': [30, 40, 50, 60]\n",
    "# }\n",
    "\n",
    "# append를 써도 되지만 python 고유의 기능들을 이용해보자\n",
    "info_line = info.splitlines()\n",
    "students = info_line[0].split()  # key\n",
    "print(students)\n",
    "score = [line.split() for line in info_line[1:]] # value\n",
    "print(score)\n",
    "\n",
    "results = dict(zip(students, score))\n",
    "pprint.pprint(results)"
   ]
  },
  {
   "cell_type": "code",
   "execution_count": 4,
   "metadata": {},
   "outputs": [
    {
     "output_type": "stream",
     "name": "stdout",
     "text": [
      "{'고길동': ['30', '40', '50', '60'],\n '도우너': ['30', '40', '50', '60'],\n '둘리': ['80', '100', '20', '90', '100'],\n '홍길동': ['70', '90', '60', '56', '78']}\n"
     ]
    }
   ],
   "source": [
    "import pprint\n",
    "# append 사용 시\n",
    "info_line = info.splitlines()\n",
    "students = info_line[0].split()  # key\n",
    "score = info_line[1:]\n",
    "\n",
    "dic = {}\n",
    "for idx, i in enumerate(students):\n",
    "    dic.update({i:[]})\n",
    "    for j in score[idx].split():\n",
    "        dic[i].append(j)\n",
    "pprint.pprint(dic)"
   ]
  },
  {
   "cell_type": "code",
   "execution_count": 4,
   "metadata": {},
   "outputs": [
    {
     "output_type": "stream",
     "name": "stdout",
     "text": [
      "True\nFalse\n"
     ]
    }
   ],
   "source": [
    "# any, all\n",
    "\n",
    "adult = [True,False,True,False]\n",
    "print(any(adult))\n",
    "print(all(adult))"
   ]
  },
  {
   "cell_type": "code",
   "execution_count": 5,
   "metadata": {},
   "outputs": [
    {
     "output_type": "stream",
     "name": "stdout",
     "text": [
      "45\n53\n"
     ]
    }
   ],
   "source": [
    "# filter\n",
    "\n",
    "def flunk(s):\n",
    "    return s < 60\n",
    "\n",
    "score = [45, 89, 72, 53, 94]\n",
    "for s in filter(flunk, score):\n",
    "    print(s)"
   ]
  },
  {
   "cell_type": "code",
   "execution_count": 6,
   "metadata": {},
   "outputs": [
    {
     "output_type": "stream",
     "name": "stdout",
     "text": [
      "[45, 53]\n"
     ]
    }
   ],
   "source": [
    "# lambda로 표현\n",
    "\n",
    "score = [45, 89, 72, 53, 94]\n",
    "under_60 = list(filter(lambda s : s<60, score))\n",
    "print(under_60)"
   ]
  },
  {
   "cell_type": "code",
   "execution_count": 7,
   "metadata": {},
   "outputs": [
    {
     "output_type": "stream",
     "name": "stdout",
     "text": [
      "[45, 53]\n"
     ]
    }
   ],
   "source": [
    "# comprehension\n",
    "\n",
    "score = [45, 89, 72, 53, 94]\n",
    "under_60 = [s for s in score if s <60]\n",
    "print(under_60)"
   ]
  },
  {
   "cell_type": "code",
   "execution_count": 6,
   "metadata": {},
   "outputs": [
    {
     "output_type": "stream",
     "name": "stdout",
     "text": [
      "47, 92, 72, 53, 99, "
     ]
    }
   ],
   "source": [
    "# map\n",
    "\n",
    "def total(a,b):\n",
    "    return a+b\n",
    "\n",
    "score = [45,89,72,53,94]\n",
    "bonus = [2,3,0,0,5]\n",
    "for s in map(total,score,bonus):\n",
    "    print(f\"{s}\", end=', ')"
   ]
  },
  {
   "cell_type": "code",
   "execution_count": 12,
   "metadata": {},
   "outputs": [
    {
     "output_type": "stream",
     "name": "stdout",
     "text": [
      "[20, 30, 50, 90]\n"
     ]
    }
   ],
   "source": [
    "# map 활용\n",
    "\n",
    "score = ['20', '30', '50', '90']\n",
    "# score = [20, 30, 50, 90]으로 바꾸기\n",
    "for i, s in enumerate(score):   \n",
    "    score[i] = int(s)\n",
    "\n",
    "# map을 쓴다면\n",
    "score = ['20', '30', '50', '90']\n",
    "score = list(map(int, score))\n",
    "print(score)\n",
    "\n",
    "# functional programming(함수적 프로그래밍)"
   ]
  },
  {
   "cell_type": "code",
   "execution_count": 15,
   "metadata": {},
   "outputs": [
    {
     "output_type": "stream",
     "name": "stdout",
     "text": [
      "[[30, 40, 50, 60],\n [70, 90, 60, 56, 78],\n [80, 100, 20, 90, 100],\n [30, 40, 50, 60]]\n{'고길동': [30, 40, 50, 60],\n '도우너': [30, 40, 50, 60],\n '둘리': [80, 100, 20, 90, 100],\n '홍길동': [70, 90, 60, 56, 78]}\n"
     ]
    }
   ],
   "source": [
    "import pprint\n",
    "\n",
    "# map 사용\n",
    "info = \"\"\"고길동 홍길동 둘리 도우너\n",
    "30 40 50 60\n",
    "70 90 60 56 78\n",
    "80 100 20 90 100\n",
    "30 40 50 60\"\"\"\n",
    "\n",
    "info_line = info.splitlines()\n",
    "students = info_line[0].split()  # key\n",
    "score = info_line[1:]\n",
    "\n",
    "score = [list(map(int, line.split())) for line in score]\n",
    "pprint.pprint(score)\n",
    "\n",
    "results = dict(zip(students, score))\n",
    "pprint.pprint(results)"
   ]
  },
  {
   "cell_type": "code",
   "execution_count": 18,
   "metadata": {},
   "outputs": [
    {
     "output_type": "stream",
     "name": "stdout",
     "text": [
      "22.5, 44.5, 36.0, 26.5, 47.0, "
     ]
    }
   ],
   "source": [
    "score = [45,89,72,53,94]\n",
    "for s in map(lambda x:x/2, score):\n",
    "    print(f\"{s}\", end=', ')"
   ]
  },
  {
   "cell_type": "code",
   "execution_count": 4,
   "metadata": {},
   "outputs": [
    {
     "output_type": "stream",
     "name": "stdout",
     "text": [
      "True\n[True, True, True, False, True]\nFalse\n"
     ]
    }
   ],
   "source": [
    "# 문제\n",
    "score = [70, 90, 62, 56, 78]\n",
    "\n",
    "# 60점 이하인 성적이 포함되어있는지 판단하세요.\n",
    "# 과락 여부 판단\n",
    "# for문 사용하지 않고\n",
    "\n",
    "# 과락 여부 판단\n",
    "result = list(map(lambda x:x<=60, score))\n",
    "print(any(result))\n",
    "\n",
    "result = list(map(lambda x:x>=60, score))\n",
    "print(all(result))\n"
   ]
  },
  {
   "source": [
    "### 컬렉션의 사본"
   ],
   "cell_type": "markdown",
   "metadata": {}
  },
  {
   "cell_type": "code",
   "execution_count": 5,
   "metadata": {},
   "outputs": [
    {
     "output_type": "stream",
     "name": "stdout",
     "text": [
      "2 2\n2 3\n"
     ]
    }
   ],
   "source": [
    "a = 2\n",
    "b = a  # a, b의 주소는 다름\n",
    "print(a, b)\n",
    "\n",
    "b = 3\n",
    "print(a,b)"
   ]
  },
  {
   "cell_type": "code",
   "execution_count": 7,
   "metadata": {},
   "outputs": [
    {
     "output_type": "stream",
     "name": "stdout",
     "text": [
      "[1, 2, 3] [1, 2, 3]\n[1, 100, 3] [1, 100, 3]\n[1, 100, 3] [1, 100, 3] [1, 100, 3]\n[1, 100, 3] [1, 100, 3] [1, 10, 3]\n"
     ]
    }
   ],
   "source": [
    "# list는 전역변수(지역변수)에 참조값(주소)이 저장되고 Heap에 실제 데이터가 저장\n",
    "\n",
    "list1 = [1,2,3]\n",
    "list2 = list1\n",
    "print(list1, list2)\n",
    "\n",
    "list2[1] = 100  # 일부만 삽입\n",
    "print(list1, list2)  # list1, list2가 같은 주소에 배정되어있음\n",
    "\n",
    "list3 = list1.copy()\n",
    "print(list1, list2, list3)\n",
    "list3[1] = 10\n",
    "print(list1, list2, list3)"
   ]
  },
  {
   "cell_type": "code",
   "execution_count": 10,
   "metadata": {},
   "outputs": [
    {
     "output_type": "stream",
     "name": "stdout",
     "text": [
      "[1, 2, 3] [1, 2, 3]\n[1, 2, 3] [1, 2, 5]\n"
     ]
    }
   ],
   "source": [
    "list1 = [1,2,3]\n",
    "list2 = list1\n",
    "print(list1, list2)\n",
    "\n",
    "list2 = [1,2,5]  # 전체를 바꾸면 바뀜\n",
    "print(list1, list2)  # list1, list2가 같은 주소에 배정되어있음"
   ]
  },
  {
   "cell_type": "code",
   "execution_count": 13,
   "metadata": {},
   "outputs": [
    {
     "output_type": "stream",
     "name": "stdout",
     "text": [
      "10\n[20, 2, 3]\n"
     ]
    }
   ],
   "source": [
    "def test1(a):\n",
    "    a = 20  \n",
    "\n",
    "a = 10  # 전역변수 a에 10의 참조 저장\n",
    "test1(a)  # test1(a)의 a에 10이저장(call by value) -> 지역변수 a에 20 저장\n",
    "print(a)  # 얘는 전역변수\n",
    "\n",
    "def test2(l):\n",
    "    l[0] = 20\n",
    "\n",
    "l = [1,2,3]\n",
    "test2(l)  # test2(l)에 l=[1,2,3] 참조가 넘어감(call by reference) -> l이 바뀜\n",
    "print(l)"
   ]
  },
  {
   "cell_type": "code",
   "execution_count": 16,
   "metadata": {},
   "outputs": [
    {
     "output_type": "stream",
     "name": "stdout",
     "text": [
      "['a', 'b']\n[['a', 'b'], 1, 2]\n[['a', 'b'], 1, 2]\n['a', 'c']\n[['a', 'c'], 1, 2]\n[['a', 'c'], 1, 2]\n['a', 'c']\n[['a', 'c'], 1, 2]\n[['a', 'c'], 1, 3]\n"
     ]
    }
   ],
   "source": [
    "list0 = ['a', 'b']\n",
    "list1 = [list0, 1, 2]  # list1[0]에 참조가 첫번째 인자로 들어감\n",
    "list2 = list1.copy()  # list0의 참조가 들어가있음 -> 얕은 복사\n",
    "print(list0, list1, list2, sep=\"\\n\")\n",
    "\n",
    "list2[0][1] = 'c'\n",
    "print(list0, list1, list2, sep=\"\\n\")"
   ]
  },
  {
   "cell_type": "code",
   "execution_count": 18,
   "metadata": {},
   "outputs": [
    {
     "output_type": "stream",
     "name": "stdout",
     "text": [
      "['a', 'b']\n[['a', 'b'], 1, 2]\n[['a', 'b'], 1, 2]\n['a', 'c']\n[['a', 'c'], 1, 2]\n[['a', 'c'], 1, 2]\n['a', 'c']\n[['a', 'c'], 1, 3]\n[['a', 'c'], 1, 3]\n"
     ]
    }
   ],
   "source": [
    "list0 = ['a', 'b']\n",
    "list1 = [list0, 1, 2]  # list1[0]에 참조가 첫번째 인자로 들어감\n",
    "list2 = list1  # list0의 참조가 들어가있음\n",
    "print(list0, list1, list2, sep=\"\\n\")\n",
    "\n",
    "list2[0][1] = 'c'\n",
    "print(list0, list1, list2, sep=\"\\n\")\n",
    "\n",
    "list2[2] = 3\n",
    "print(list0, list1, list2, sep=\"\\n\")"
   ]
  },
  {
   "cell_type": "code",
   "execution_count": 20,
   "metadata": {},
   "outputs": [
    {
     "output_type": "stream",
     "name": "stdout",
     "text": [
      "['a', 'b']\n[['a', 'b'], 1, 2]\n[['a', 'c'], 1, 2]\n"
     ]
    }
   ],
   "source": [
    "import copy\n",
    "\n",
    "list0 = ['a', 'b']\n",
    "list1 = [list0, 1, 2]  # list1[0]에 참조가 첫번째 인자로 들어감\n",
    "list2 = copy.deepcopy(list1)  # 깊은 복사 (참조없음)\n",
    "\n",
    "list2[0][1] = 'c'\n",
    "print(list0, list1, list2, sep=\"\\n\")"
   ]
  },
  {
   "cell_type": "code",
   "execution_count": 22,
   "metadata": {},
   "outputs": [
    {
     "output_type": "stream",
     "name": "stdout",
     "text": [
      "[1, 2, 3]\n"
     ]
    }
   ],
   "source": [
    "def test1(l):\n",
    "    l = [10, 20, 30]\n",
    "\n",
    "l = [1,2,3]\n",
    "test1(l)  # 참조가 넘어가면 다 call by reference\n",
    "print(l)\n",
    "\n",
    "# python은 안쓰는 메모리는 알아서 지워줌(garbage collector)"
   ]
  },
  {
   "cell_type": "code",
   "execution_count": 23,
   "metadata": {},
   "outputs": [
    {
     "output_type": "stream",
     "name": "stdout",
     "text": [
      "list1==list2 : True, list1 is list2 : True\nlist1==list3 : True, list1 is list3 : False\nlist2==list3 : True, list2 is list3 : False\n"
     ]
    }
   ],
   "source": [
    "# == vs. is\n",
    "\n",
    "list1 = ['a', 'b']\n",
    "list2 = list1\n",
    "list3 = list1.copy()\n",
    "\n",
    "print(f\"list1==list2 : {list1==list2}, list1 is list2 : {list1 is list2}\")\n",
    "print(f\"list1==list3 : {list1==list3}, list1 is list3 : {list1 is list3}\")\n",
    "print(f\"list2==list3 : {list2==list3}, list2 is list3 : {list2 is list3}\")"
   ]
  }
 ]
}
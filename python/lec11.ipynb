{
 "metadata": {
  "language_info": {
   "codemirror_mode": {
    "name": "ipython",
    "version": 3
   },
   "file_extension": ".py",
   "mimetype": "text/x-python",
   "name": "python",
   "nbconvert_exporter": "python",
   "pygments_lexer": "ipython3",
   "version": "3.8.5-final"
  },
  "orig_nbformat": 2,
  "kernelspec": {
   "name": "python3",
   "display_name": "Python 3",
   "language": "python"
  }
 },
 "nbformat": 4,
 "nbformat_minor": 2,
 "cells": [
  {
   "cell_type": "code",
   "execution_count": 1,
   "metadata": {},
   "outputs": [
    {
     "output_type": "stream",
     "name": "stdout",
     "text": [
      "0번 학생의 성적 : 88\n1번 학생의 성적 : 95\n2번 학생의 성적 : 70\n3번 학생의 성적 : 100\n4번 학생의 성적 : 99\n"
     ]
    }
   ],
   "source": [
    "# enumerate\n",
    "\n",
    "score = [88, 95, 70, 100, 99]\n",
    "list(enumerate(score))\n",
    "\n",
    "for no, s in enumerate(score):  # unpack\n",
    "    print(f\"{no}번 학생의 성적 : {s}\")"
   ]
  },
  {
   "cell_type": "code",
   "execution_count": 2,
   "metadata": {},
   "outputs": [
    {
     "output_type": "stream",
     "name": "stdout",
     "text": [
      "[('월', '갈비탕'), ('화', '순댓국'), ('수', '칼국수'), ('목', '삼겹살')]\n월요일 메뉴: 갈비탕\n화요일 메뉴: 순댓국\n수요일 메뉴: 칼국수\n목요일 메뉴: 삼겹살\n{'월': '갈비탕', '화': '순댓국', '수': '칼국수', '목': '삼겹살'}\n"
     ]
    }
   ],
   "source": [
    "# zip\n",
    "\n",
    "dates = [\"월\", \"화\", \"수\", \"목\", \"금\", \"토\", \"일\"]\n",
    "food = [\"갈비탕\", \"순댓국\", \"칼국수\", \"삼겹살\"]\n",
    "\n",
    "menu = list(zip(dates, food))\n",
    "print(menu)\n",
    "\n",
    "# menu = zip(dates, food)\n",
    "# print(menu)\n",
    "# print(list(menu))\n",
    "\n",
    "for d, f in menu:\n",
    "    print(f\"{d}요일 메뉴: {f}\")\n",
    "\n",
    "menu_dict = dict(zip(dates, food))\n",
    "print(menu_dict)"
   ]
  },
  {
   "cell_type": "code",
   "execution_count": 3,
   "metadata": {},
   "outputs": [
    {
     "output_type": "stream",
     "name": "stdout",
     "text": [
      "['고길동', '홍길동', '둘리', '도우너']\n[['30', '40', '50', '60'], ['70', '90', '60', '56', '78'], ['80', '100', '20', '90', '100'], ['30', '40', '50', '60']]\n{'고길동': ['30', '40', '50', '60'],\n '도우너': ['30', '40', '50', '60'],\n '둘리': ['80', '100', '20', '90', '100'],\n '홍길동': ['70', '90', '60', '56', '78']}\n"
     ]
    }
   ],
   "source": [
    "import pprint\n",
    "info = \"\"\"고길동 홍길동 둘리 도우너\n",
    "30 40 50 60\n",
    "70 90 60 56 78\n",
    "80 100 20 90 100\n",
    "30 40 50 60\"\"\"\n",
    "\n",
    "# zip을 이용해 만들기\n",
    "# {\n",
    "# '고길동': [30, 40, 50, 60]\n",
    "# ...\n",
    "# '도우너': [30, 40, 50, 60]\n",
    "# }\n",
    "\n",
    "# append를 써도 되지만 python 고유의 기능들을 이용해보자\n",
    "info_line = info.splitlines()\n",
    "students = info_line[0].split()  # key\n",
    "print(students)\n",
    "score = [line.split() for line in info_line[1:]] # value\n",
    "print(score)\n",
    "\n",
    "results = dict(zip(students, score))\n",
    "pprint.pprint(results)"
   ]
  },
  {
   "cell_type": "code",
   "execution_count": 4,
   "metadata": {},
   "outputs": [
    {
     "output_type": "stream",
     "name": "stdout",
     "text": [
      "{'고길동': ['30', '40', '50', '60'],\n '도우너': ['30', '40', '50', '60'],\n '둘리': ['80', '100', '20', '90', '100'],\n '홍길동': ['70', '90', '60', '56', '78']}\n"
     ]
    }
   ],
   "source": [
    "import pprint\n",
    "# append 사용 시\n",
    "info_line = info.splitlines()\n",
    "students = info_line[0].split()  # key\n",
    "score = info_line[1:]\n",
    "\n",
    "dic = {}\n",
    "for idx, i in enumerate(students):\n",
    "    dic.update({i:[]})\n",
    "    for j in score[idx].split():\n",
    "        dic[i].append(j)\n",
    "pprint.pprint(dic)"
   ]
  },
  {
   "cell_type": "code",
   "execution_count": 4,
   "metadata": {},
   "outputs": [
    {
     "output_type": "stream",
     "name": "stdout",
     "text": [
      "True\nFalse\n"
     ]
    }
   ],
   "source": [
    "# any, all\n",
    "\n",
    "adult = [True,False,True,False]\n",
    "print(any(adult))\n",
    "print(all(adult))"
   ]
  },
  {
   "cell_type": "code",
   "execution_count": 5,
   "metadata": {},
   "outputs": [
    {
     "output_type": "stream",
     "name": "stdout",
     "text": [
      "45\n53\n"
     ]
    }
   ],
   "source": [
    "# filter\n",
    "\n",
    "def flunk(s):\n",
    "    return s < 60\n",
    "\n",
    "score = [45, 89, 72, 53, 94]\n",
    "for s in filter(flunk, score):\n",
    "    print(s)"
   ]
  },
  {
   "cell_type": "code",
   "execution_count": 6,
   "metadata": {},
   "outputs": [
    {
     "output_type": "stream",
     "name": "stdout",
     "text": [
      "[45, 53]\n"
     ]
    }
   ],
   "source": [
    "# lambda로 표현\n",
    "\n",
    "score = [45, 89, 72, 53, 94]\n",
    "under_60 = list(filter(lambda s : s<60, score))\n",
    "print(under_60)"
   ]
  },
  {
   "cell_type": "code",
   "execution_count": 7,
   "metadata": {},
   "outputs": [
    {
     "output_type": "stream",
     "name": "stdout",
     "text": [
      "[45, 53]\n"
     ]
    }
   ],
   "source": [
    "# comprehension\n",
    "\n",
    "score = [45, 89, 72, 53, 94]\n",
    "under_60 = [s for s in score if s <60]\n",
    "print(under_60)"
   ]
  }
 ]
}
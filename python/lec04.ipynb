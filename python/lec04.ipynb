{
 "metadata": {
  "language_info": {
   "codemirror_mode": {
    "name": "ipython",
    "version": 3
   },
   "file_extension": ".py",
   "mimetype": "text/x-python",
   "name": "python",
   "nbconvert_exporter": "python",
   "pygments_lexer": "ipython3",
   "version": "3.8.5-final"
  },
  "orig_nbformat": 2,
  "kernelspec": {
   "name": "python3",
   "display_name": "Python 3",
   "language": "python"
  }
 },
 "nbformat": 4,
 "nbformat_minor": 2,
 "cells": [
  {
   "source": [
    "### 연산자\n",
    "#### 대입연산자"
   ],
   "cell_type": "markdown",
   "metadata": {}
  },
  {
   "cell_type": "code",
   "execution_count": 1,
   "metadata": {},
   "outputs": [
    {
     "output_type": "stream",
     "name": "stdout",
     "text": [
      "<class 'int'> <class 'str'> <class 'float'>\n"
     ]
    }
   ],
   "source": [
    "i = 3\n",
    "s = 'korea'\n",
    "f = 3.1415\n",
    "print(type(i), type(s), type(f))\n",
    "\n",
    "# 사용하지 않는 변수를 읽으면 예외 발생\n",
    "# NameError: name '변수명' is not defined"
   ]
  },
  {
   "source": [
    "#### 산술 연산자"
   ],
   "cell_type": "markdown",
   "metadata": {}
  },
  {
   "cell_type": "code",
   "execution_count": 2,
   "metadata": {},
   "outputs": [
    {
     "output_type": "stream",
     "name": "stdout",
     "text": [
      "27\n2.5 2\n<class 'float'> <class 'int'>\n1\n"
     ]
    }
   ],
   "source": [
    "print(3**3)  # 거듭제곱\n",
    "print(5/2, 5//2)\n",
    "print(type(5/2), type(5//2))\n",
    "print(7%3)  # 나머지"
   ]
  },
  {
   "source": [
    "#### 복합 대입 연산자"
   ],
   "cell_type": "markdown",
   "metadata": {}
  },
  {
   "cell_type": "code",
   "execution_count": 3,
   "metadata": {},
   "outputs": [
    {
     "output_type": "stream",
     "name": "stdout",
     "text": [
      "6\n4\n20\n"
     ]
    }
   ],
   "source": [
    "a = 5\n",
    "a += 1  # a = a+1\n",
    "print(a)\n",
    "a -= 2  # a = a-2\n",
    "print(a)\n",
    "a *= 5  # a = a*5\n",
    "print(a)"
   ]
  },
  {
   "source": [
    "#### 문자열 연산"
   ],
   "cell_type": "markdown",
   "metadata": {}
  },
  {
   "cell_type": "code",
   "execution_count": 4,
   "metadata": {},
   "outputs": [
    {
     "output_type": "stream",
     "name": "stdout",
     "text": [
      "대한민국만세\n==============================\n"
     ]
    }
   ],
   "source": [
    "# 'str'+'str' = strstr\n",
    "s1 = \"대한민국\"\n",
    "s2 = \"만세\"\n",
    "print(s1+s2)\n",
    "\n",
    "# 'str'*정수\n",
    "print(\"=\"*30)"
   ]
  },
  {
   "cell_type": "code",
   "execution_count": 5,
   "metadata": {},
   "outputs": [
    {
     "output_type": "stream",
     "name": "stdout",
     "text": [
      "korea2002\n32\n"
     ]
    }
   ],
   "source": [
    "s = \"korea\" + str(2002)\n",
    "print(s)\n",
    "\n",
    "# 틀린표현\n",
    "# s = \"korea\" + 2002\n",
    "# TypeError: can only concatenate str (not \"int\") to str\n",
    "\n",
    "i = 10 + int(\"22\")\n",
    "print(i)\n",
    "\n",
    "# 틀린표현\n",
    "# i = 10 + int(\"22.5\")\n",
    "# ValueError: invalid literal for int() with base 10: '22.5"
   ]
  },
  {
   "cell_type": "code",
   "execution_count": 6,
   "metadata": {},
   "outputs": [
    {
     "output_type": "stream",
     "name": "stdout",
     "text": [
      "40\n40\n40\n"
     ]
    }
   ],
   "source": [
    "print(int(\"0b101000\",2))\n",
    "print(int(\"0o50\",8))\n",
    "print(int(\"0x28\",16))"
   ]
  },
  {
   "source": [
    "#### 타입 변환"
   ],
   "cell_type": "markdown",
   "metadata": {}
  },
  {
   "cell_type": "code",
   "execution_count": 7,
   "metadata": {},
   "outputs": [
    {
     "output_type": "stream",
     "name": "stdout",
     "text": [
      "32\n"
     ]
    }
   ],
   "source": [
    "i = 10 + int(float(\"22.5\"))\n",
    "print(i)"
   ]
  },
  {
   "cell_type": "code",
   "execution_count": 8,
   "metadata": {},
   "outputs": [
    {
     "output_type": "stream",
     "name": "stdout",
     "text": [
      "3\n3\n3.1\n3.142\n3.1415\n0.0\n31000\n"
     ]
    }
   ],
   "source": [
    "print(int(3.1415))\n",
    "print(round(3.1415))\n",
    "print(round(3.1415, 1))\n",
    "print(round(3.1415, 3))\n",
    "print(round(3.1415, 5))\n",
    "print(round(3.1415, -1))\n",
    "print(round(31415, -3))"
   ]
  }
 ]
}
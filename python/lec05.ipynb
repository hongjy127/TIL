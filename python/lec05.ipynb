{
 "metadata": {
  "language_info": {
   "codemirror_mode": {
    "name": "ipython",
    "version": 3
   },
   "file_extension": ".py",
   "mimetype": "text/x-python",
   "name": "python",
   "nbconvert_exporter": "python",
   "pygments_lexer": "ipython3",
   "version": "3.8.5-final"
  },
  "orig_nbformat": 2,
  "kernelspec": {
   "name": "python3",
   "display_name": "Python 3",
   "language": "python"
  }
 },
 "nbformat": 4,
 "nbformat_minor": 2,
 "cells": [
  {
   "source": [
    "# 조건문\n",
    "## if 문"
   ],
   "cell_type": "markdown",
   "metadata": {}
  },
  {
   "cell_type": "code",
   "execution_count": 1,
   "metadata": {},
   "outputs": [
    {
     "output_type": "stream",
     "name": "stdout",
     "text": [
      "애들은 가라\n"
     ]
    }
   ],
   "source": [
    "age = int(input(\"나이를 입력하세요: \"))\n",
    "\n",
    "if age < 19:\n",
    "    print(\"애들은 가라\")"
   ]
  },
  {
   "cell_type": "code",
   "execution_count": 2,
   "metadata": {},
   "outputs": [
    {
     "output_type": "stream",
     "name": "stdout",
     "text": [
      "OK\nOK\nOK\n"
     ]
    }
   ],
   "source": [
    "a = 3\n",
    "b = 5\n",
    "if a==3 and b==5:\n",
    "    print(\"OK\")\n",
    "\n",
    "if a==3 or b==4:\n",
    "    print(\"OK\")\n",
    "\n",
    "if a>1 and a<10:  # 1 < a < 10 도 가능(다른 언어에서는 지원하지 않는 형식)\n",
    "    print(\"OK\")"
   ]
  },
  {
   "cell_type": "code",
   "execution_count": 3,
   "metadata": {},
   "outputs": [
    {
     "output_type": "stream",
     "name": "stdout",
     "text": [
      "안녕하세요\n"
     ]
    }
   ],
   "source": [
    "age = int(input(\"나이를 입력하세요: \"))\n",
    "\n",
    "if age < 19:\n",
    "    print(\"안녕히 가세요\")\n",
    "else:\n",
    "    print(\"안녕하세요\")"
   ]
  },
  {
   "cell_type": "code",
   "execution_count": 5,
   "metadata": {},
   "outputs": [
    {
     "output_type": "stream",
     "name": "stdout",
     "text": [
      "대학생입니다\n"
     ]
    }
   ],
   "source": [
    "age = int(input(\"나이를 입력하세요: \"))\n",
    "\n",
    "if age < 19:\n",
    "    print(\"안녕히 가세요\")\n",
    "elif age < 25:  # 19 <= age < 25\n",
    "    print(\"대학생입니다\")\n",
    "else:\n",
    "    print(\"안녕하세요\")"
   ]
  },
  {
   "cell_type": "code",
   "execution_count": 1,
   "metadata": {},
   "outputs": [
    {
     "output_type": "stream",
     "name": "stdout",
     "text": [
      "무승부\ncomputer: 0 user 0\n"
     ]
    }
   ],
   "source": [
    "# RockScissorsPaper\n",
    "# 문제\n",
    "\n",
    "# 컴퓨터와 가위바위보 해서 승자 판정\n",
    "# 컴퓨터는 랜덤하게 결정\n",
    "# 사용자는 input으로 값 입력\n",
    "\n",
    "# 1. 정보의 표현 방법 결정\n",
    "# 가위: 0\n",
    "# 바위: 1\n",
    "# 보: 2\n",
    "\n",
    "# 2. [0, 1, 2] 중에서 랜덤하게 숫자 하나 결정\n",
    "import random   # import <module> / 모듈 --- 함수의 그룹 or 파일\n",
    "# random.py 파일을 가져옴.\n",
    "\n",
    "# 관례: 상수(변하지 않는 수)를 표현할 때 대문자로 이름을 지어줌.\n",
    "SCISSORS = 0\n",
    "ROCK = 1\n",
    "PAPER = 2\n",
    "\n",
    "com = random.randrange(0,3)  # [0,3)\n",
    "# 컴퓨터의 값 결정\n",
    "\n",
    "# 3. 사용자의 값 결정\n",
    "user = int(input('가위(0), 바위(1), 보(2): '))\n",
    "\n",
    "# 4. 승부 판정\n",
    "# 4.1 비기는 경우\n",
    "# 4.2 사용자가 이기는 경우\n",
    "# 4.3 사용자가 지는 경우\n",
    "\n",
    "# 코드\n",
    "\n",
    "if user in [0, 1, 2]:\n",
    "    if com==user:\n",
    "        print('무승부')\n",
    "    else:\n",
    "        if (com==SCISSORS and user==ROCK) or (com==ROCK and user==PAPER) or (com==PAPER and user==SCISSORS):\n",
    "            print('사용자 승리')\n",
    "        else:\n",
    "            print('컴퓨터 승리')\n",
    "    print('computer:', com, 'user', user)\n",
    "else:\n",
    "    print('가위(0), 바위(1), 보(2) 중 하나를 입력하세요.')"
   ]
  }
 ]
}
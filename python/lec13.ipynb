{
 "metadata": {
  "language_info": {
   "codemirror_mode": {
    "name": "ipython",
    "version": 3
   },
   "file_extension": ".py",
   "mimetype": "text/x-python",
   "name": "python",
   "nbconvert_exporter": "python",
   "pygments_lexer": "ipython3",
   "version": "3.8.5-final"
  },
  "orig_nbformat": 2,
  "kernelspec": {
   "name": "python3",
   "display_name": "Python 3",
   "language": "python"
  }
 },
 "nbformat": 4,
 "nbformat_minor": 2,
 "cells": [
  {
   "source": [
    "## 예외"
   ],
   "cell_type": "markdown",
   "metadata": {}
  },
  {
   "cell_type": "code",
   "execution_count": 3,
   "metadata": {},
   "outputs": [
    {
     "output_type": "stream",
     "name": "stdout",
     "text": [
      "예외가 발생했습니다.\n",
      "89\n",
      "작업완료\n"
     ]
    }
   ],
   "source": [
    "while True:\n",
    "    string = input(\"점수를 입력하세요: \")\n",
    "    try:\n",
    "        score = int(string)\n",
    "        print(score)\n",
    "        break\n",
    "    except:\n",
    "        print(\"예외가 발생했습니다.\")\n",
    "\n",
    "print(\"작업완료\")"
   ]
  },
  {
   "cell_type": "code",
   "execution_count": 12,
   "metadata": {},
   "outputs": [
    {
     "output_type": "stream",
     "name": "stdout",
     "text": [
      "89\n첨자 범위를 벗어났습니다.\n작업완료\n"
     ]
    }
   ],
   "source": [
    "string = \"89점\"\n",
    "try:\n",
    "    score = int(string)\n",
    "    print(score)\n",
    "    a = string[5]\n",
    "except ValueError:\n",
    "    print(\"점수의 형식이 잘못되었습니다.\")\n",
    "except IndexError:\n",
    "    print(\"첨자 범위를 벗어났습니다.\")\n",
    "\n",
    "print(\"작업완료\")"
   ]
  },
  {
   "cell_type": "code",
   "execution_count": 15,
   "metadata": {},
   "outputs": [
    {
     "output_type": "stream",
     "name": "stdout",
     "text": [
      "89\nstring index out of range\n작업완료\n"
     ]
    }
   ],
   "source": [
    "string = \"89\"\n",
    "try:\n",
    "    score = int(string)\n",
    "    print(score)\n",
    "    a = string[5]\n",
    "except ValueError as e:\n",
    "    print(e)\n",
    "except IndexError as e:\n",
    "    print(e)\n",
    "\n",
    "print(\"작업완료\")"
   ]
  },
  {
   "cell_type": "code",
   "execution_count": 21,
   "metadata": {},
   "outputs": [
    {
     "output_type": "stream",
     "name": "stdout",
     "text": [
      "~10 = 55\n입력값이 잘못되었습니다\n"
     ]
    }
   ],
   "source": [
    "def calcsum(n):\n",
    "    if n < 0:\n",
    "        raise ValueError\n",
    "\n",
    "    total = 0\n",
    "    for i in range(n+1):\n",
    "        total += i\n",
    "    return total\n",
    "\n",
    "try:\n",
    "    print(f\"~10 = {calcsum(10)}\")\n",
    "    print(f\"~-5 = {calcsum(-5)}\")\n",
    "except ValueError:\n",
    "    print('입력값이 잘못되었습니다')"
   ]
  },
  {
   "cell_type": "code",
   "execution_count": 24,
   "metadata": {},
   "outputs": [
    {
     "output_type": "stream",
     "name": "stdout",
     "text": [
      "통신시작\n네트워크 접속\n네트워크 통신 수행\n접속해제\n통신끝\n"
     ]
    }
   ],
   "source": [
    "# finally\n",
    "\n",
    "def chat():\n",
    "    try:\n",
    "        print(\"네트워크 접속\")\n",
    "        # a = 2/0\n",
    "        print(\"네트워크 통신 수행\")\n",
    "        return  # 중간에 멈출춰도 finally는 항상 실행\n",
    "    except:\n",
    "        print(\"네트워크 에러 발생\")\n",
    "    finally:\n",
    "        print(\"접속해제\")\n",
    "\n",
    "    print(\"------------\")\n",
    "\n",
    "print('통신시작')\n",
    "chat()\n",
    "print('통신끝')"
   ]
  },
  {
   "cell_type": "code",
   "execution_count": 25,
   "metadata": {},
   "outputs": [
    {
     "output_type": "error",
     "ename": "AssertionError",
     "evalue": "점수는 100 이하여야 합니다.",
     "traceback": [
      "\u001b[1;31m---------------------------------------------------------------------------\u001b[0m",
      "\u001b[1;31mAssertionError\u001b[0m                            Traceback (most recent call last)",
      "\u001b[1;32m<ipython-input-25-c7601f2c7238>\u001b[0m in \u001b[0;36m<module>\u001b[1;34m\u001b[0m\n\u001b[0;32m      2\u001b[0m \u001b[1;33m\u001b[0m\u001b[0m\n\u001b[0;32m      3\u001b[0m \u001b[0mscore\u001b[0m \u001b[1;33m=\u001b[0m \u001b[1;36m128\u001b[0m\u001b[1;33m\u001b[0m\u001b[1;33m\u001b[0m\u001b[0m\n\u001b[1;32m----> 4\u001b[1;33m \u001b[1;32massert\u001b[0m \u001b[0mscore\u001b[0m \u001b[1;33m<=\u001b[0m \u001b[1;36m100\u001b[0m\u001b[1;33m,\u001b[0m \u001b[1;34m\"점수는 100 이하여야 합니다.\"\u001b[0m\u001b[1;33m\u001b[0m\u001b[1;33m\u001b[0m\u001b[0m\n\u001b[0m\u001b[0;32m      5\u001b[0m \u001b[0mprint\u001b[0m\u001b[1;33m(\u001b[0m\u001b[0mscore\u001b[0m\u001b[1;33m)\u001b[0m\u001b[1;33m\u001b[0m\u001b[1;33m\u001b[0m\u001b[0m\n",
      "\u001b[1;31mAssertionError\u001b[0m: 점수는 100 이하여야 합니다."
     ]
    }
   ],
   "source": [
    "# assert\n",
    "\n",
    "score = 128\n",
    "assert score <= 100, \"점수는 100 이하여야 합니다.\"\n",
    "print(score)"
   ]
  }
 ]
}